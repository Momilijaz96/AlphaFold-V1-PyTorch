{
  "nbformat": 4,
  "nbformat_minor": 0,
  "metadata": {
    "colab": {
      "name": "AlphaFold1.1",
      "provenance": [],
      "collapsed_sections": [
        "1WDPgfIavcW4",
        "hSPAZePqXxMZ",
        "9Pn8drKbGwUA",
        "sRF7zON5jKcR"
      ],
      "include_colab_link": true
    },
    "kernelspec": {
      "display_name": "Python 3",
      "name": "python3"
    }
  },
  "cells": [
    {
      "cell_type": "markdown",
      "metadata": {
        "id": "view-in-github",
        "colab_type": "text"
      },
      "source": [
        "<a href=\"https://colab.research.google.com/github/Momilijaz96/AlphaFold-V1-PyTorch/blob/main/AlphaFold1_1.ipynb\" target=\"_parent\"><img src=\"https://colab.research.google.com/assets/colab-badge.svg\" alt=\"Open In Colab\"/></a>"
      ]
    },
    {
      "cell_type": "markdown",
      "metadata": {
        "id": "T-u-CD-iYPh9"
      },
      "source": [
        "# Imports and Data Downloading "
      ]
    },
    {
      "cell_type": "code",
      "metadata": {
        "id": "b2x29KUo2wXI",
        "colab": {
          "base_uri": "https://localhost:8080/"
        },
        "outputId": "7d8c3e85-f822-45f9-a2a8-07e95909dca2"
      },
      "source": [
        "# Download weights and test data\n",
        "!if [ ! -f alphafold-casp13-weights.zip ]; then wget -O alphafold-casp13-weights.zip http://bit.ly/alphafold-casp13-weights; fi;\n",
        "!if [ ! -f t0949.zip ]; then wget -O t0949.zip https://www.dropbox.com/s/mnezcygg80qxq94/T0949.zip?dl=1; fi;\n",
        "\n",
        "# Unzip files\n",
        "!if [ ! -d alphafold-casp13-weights ]; then unzip -a alphafold-casp13-weights.zip -d alphafold-casp13-weights; fi;\n",
        "!if [ ! -d alphafold-casp13-data ]; then unzip -a t0949.zip -d alphafold-casp13-data; fi;"
      ],
      "execution_count": null,
      "outputs": [
        {
          "output_type": "stream",
          "text": [
            "--2021-04-14 00:15:38--  http://bit.ly/alphafold-casp13-weights\n",
            "Resolving bit.ly (bit.ly)... 67.199.248.11, 67.199.248.10\n",
            "Connecting to bit.ly (bit.ly)|67.199.248.11|:80... connected.\n",
            "HTTP request sent, awaiting response... 301 Moved Permanently\n",
            "Location: https://storage.googleapis.com/alphafold_casp13_data/alphafold_casp13_weights.zip [following]\n",
            "--2021-04-14 00:15:38--  https://storage.googleapis.com/alphafold_casp13_data/alphafold_casp13_weights.zip\n",
            "Resolving storage.googleapis.com (storage.googleapis.com)... 172.217.204.128, 172.217.203.128, 142.250.97.128, ...\n",
            "Connecting to storage.googleapis.com (storage.googleapis.com)|172.217.204.128|:443... connected.\n",
            "HTTP request sent, awaiting response... 200 OK\n",
            "Length: 218839215 (209M) [application/zip]\n",
            "Saving to: ‘alphafold-casp13-weights.zip’\n",
            "\n",
            "alphafold-casp13-we 100%[===================>] 208.70M  39.8MB/s    in 5.2s    \n",
            "\n",
            "2021-04-14 00:15:44 (39.8 MB/s) - ‘alphafold-casp13-weights.zip’ saved [218839215/218839215]\n",
            "\n",
            "--2021-04-14 00:15:44--  https://www.dropbox.com/s/mnezcygg80qxq94/T0949.zip?dl=1\n",
            "Resolving www.dropbox.com (www.dropbox.com)... 162.125.5.18, 2620:100:601d:18::a27d:512\n",
            "Connecting to www.dropbox.com (www.dropbox.com)|162.125.5.18|:443... connected.\n",
            "HTTP request sent, awaiting response... 301 Moved Permanently\n",
            "Location: /s/dl/mnezcygg80qxq94/T0949.zip [following]\n",
            "--2021-04-14 00:15:45--  https://www.dropbox.com/s/dl/mnezcygg80qxq94/T0949.zip\n",
            "Reusing existing connection to www.dropbox.com:443.\n",
            "HTTP request sent, awaiting response... 302 Found\n",
            "Location: https://ucaa8983692a6eed86ca2583203c.dl.dropboxusercontent.com/cd/0/get/BMkHxcoUyTe0Y-F1g59KRkEJpylFwemnlh4bjJTwjChyigAn7Sho7lbcaj2DbeFIMMFXEndNqgKByoX0iGM7J2m208UU0JDS48edAL56Yl9ZgK0LvJFau119qCEaU7Agr-k51cXAilfkcYqUX-AFUDV9/file?dl=1# [following]\n",
            "--2021-04-14 00:15:45--  https://ucaa8983692a6eed86ca2583203c.dl.dropboxusercontent.com/cd/0/get/BMkHxcoUyTe0Y-F1g59KRkEJpylFwemnlh4bjJTwjChyigAn7Sho7lbcaj2DbeFIMMFXEndNqgKByoX0iGM7J2m208UU0JDS48edAL56Yl9ZgK0LvJFau119qCEaU7Agr-k51cXAilfkcYqUX-AFUDV9/file?dl=1\n",
            "Resolving ucaa8983692a6eed86ca2583203c.dl.dropboxusercontent.com (ucaa8983692a6eed86ca2583203c.dl.dropboxusercontent.com)... 162.125.5.15, 2620:100:601d:15::a27d:50f\n",
            "Connecting to ucaa8983692a6eed86ca2583203c.dl.dropboxusercontent.com (ucaa8983692a6eed86ca2583203c.dl.dropboxusercontent.com)|162.125.5.15|:443... connected.\n",
            "HTTP request sent, awaiting response... 200 OK\n",
            "Length: 149508395 (143M) [application/binary]\n",
            "Saving to: ‘t0949.zip’\n",
            "\n",
            "t0949.zip           100%[===================>] 142.58M  32.8MB/s    in 4.3s    \n",
            "\n",
            "2021-04-14 00:15:50 (32.8 MB/s) - ‘t0949.zip’ saved [149508395/149508395]\n",
            "\n",
            "Archive:  alphafold-casp13-weights.zip\n",
            "   creating: alphafold-casp13-weights/873731/\n",
            "   creating: alphafold-casp13-weights/873731/1/\n",
            "   creating: alphafold-casp13-weights/873731/1/tf_graph_data/\n",
            "  inflating: alphafold-casp13-weights/873731/1/tf_graph_data/tf_graph_data.ckpt.data-00000-of-00001  [binary]\n",
            "  inflating: alphafold-casp13-weights/873731/1/tf_graph_data/tf_graph_data.ckpt.index  [binary]\n",
            "  inflating: alphafold-casp13-weights/873731/1/tf_graph_data/tf_graph_data.ckpt.meta  [binary]\n",
            "  inflating: alphafold-casp13-weights/873731/1/config.json  [text]  \n",
            "   creating: alphafold-casp13-weights/873731/3/\n",
            "   creating: alphafold-casp13-weights/873731/3/tf_graph_data/\n",
            "  inflating: alphafold-casp13-weights/873731/3/tf_graph_data/tf_graph_data.ckpt.data-00000-of-00001  [binary]\n",
            "  inflating: alphafold-casp13-weights/873731/3/tf_graph_data/tf_graph_data.ckpt.index  [binary]\n",
            "  inflating: alphafold-casp13-weights/873731/3/tf_graph_data/tf_graph_data.ckpt.meta  [binary]\n",
            "  inflating: alphafold-casp13-weights/873731/3/config.json  [text]  \n",
            "   creating: alphafold-casp13-weights/873731/2/\n",
            "   creating: alphafold-casp13-weights/873731/2/tf_graph_data/\n",
            "  inflating: alphafold-casp13-weights/873731/2/tf_graph_data/tf_graph_data.ckpt.data-00000-of-00001  [binary]\n",
            "  inflating: alphafold-casp13-weights/873731/2/tf_graph_data/tf_graph_data.ckpt.index  [binary]\n",
            "  inflating: alphafold-casp13-weights/873731/2/tf_graph_data/tf_graph_data.ckpt.meta  [binary]\n",
            "  inflating: alphafold-casp13-weights/873731/2/config.json  [text]  \n",
            "   creating: alphafold-casp13-weights/873731/0/\n",
            "   creating: alphafold-casp13-weights/873731/0/tf_graph_data/\n",
            "  inflating: alphafold-casp13-weights/873731/0/tf_graph_data/tf_graph_data.ckpt.data-00000-of-00001  [binary]\n",
            "  inflating: alphafold-casp13-weights/873731/0/tf_graph_data/tf_graph_data.ckpt.index  [binary]\n",
            "  inflating: alphafold-casp13-weights/873731/0/tf_graph_data/tf_graph_data.ckpt.meta  [binary]\n",
            "  inflating: alphafold-casp13-weights/873731/0/config.json  [text]  \n",
            "  inflating: alphafold-casp13-weights/873731/stats_train_s35.json  [text]  \n",
            "   creating: alphafold-casp13-weights/916425/\n",
            "   creating: alphafold-casp13-weights/916425/1/\n",
            "   creating: alphafold-casp13-weights/916425/1/tf_graph_data/\n",
            "  inflating: alphafold-casp13-weights/916425/1/tf_graph_data/tf_graph_data.ckpt.data-00000-of-00001  [binary]\n",
            "  inflating: alphafold-casp13-weights/916425/1/tf_graph_data/tf_graph_data.ckpt.index  [binary]\n",
            "  inflating: alphafold-casp13-weights/916425/1/tf_graph_data/tf_graph_data.ckpt.meta  [binary]\n",
            "  inflating: alphafold-casp13-weights/916425/1/config.json  [text]  \n",
            "   creating: alphafold-casp13-weights/916425/3/\n",
            "   creating: alphafold-casp13-weights/916425/3/tf_graph_data/\n",
            "  inflating: alphafold-casp13-weights/916425/3/tf_graph_data/tf_graph_data.ckpt.data-00000-of-00001  [binary]\n",
            "  inflating: alphafold-casp13-weights/916425/3/tf_graph_data/tf_graph_data.ckpt.index  [binary]\n",
            "  inflating: alphafold-casp13-weights/916425/3/tf_graph_data/tf_graph_data.ckpt.meta  [binary]\n",
            "  inflating: alphafold-casp13-weights/916425/3/config.json  [text]  \n",
            "   creating: alphafold-casp13-weights/916425/2/\n",
            "   creating: alphafold-casp13-weights/916425/2/tf_graph_data/\n",
            "  inflating: alphafold-casp13-weights/916425/2/tf_graph_data/tf_graph_data.ckpt.data-00000-of-00001  [binary]\n",
            "  inflating: alphafold-casp13-weights/916425/2/tf_graph_data/tf_graph_data.ckpt.index  [binary]\n",
            "  inflating: alphafold-casp13-weights/916425/2/tf_graph_data/tf_graph_data.ckpt.meta  [binary]\n",
            "  inflating: alphafold-casp13-weights/916425/2/config.json  [text]  \n",
            "   creating: alphafold-casp13-weights/916425/0/\n",
            "   creating: alphafold-casp13-weights/916425/0/tf_graph_data/\n",
            "  inflating: alphafold-casp13-weights/916425/0/tf_graph_data/tf_graph_data.ckpt.data-00000-of-00001  [binary]\n",
            "  inflating: alphafold-casp13-weights/916425/0/tf_graph_data/tf_graph_data.ckpt.index  [binary]\n",
            "  inflating: alphafold-casp13-weights/916425/0/tf_graph_data/tf_graph_data.ckpt.meta  [binary]\n",
            "  inflating: alphafold-casp13-weights/916425/0/config.json  [text]  \n",
            "  inflating: alphafold-casp13-weights/916425/stats_train_s35.json  [text]  \n",
            "   creating: alphafold-casp13-weights/941521/\n",
            "   creating: alphafold-casp13-weights/941521/0/\n",
            "   creating: alphafold-casp13-weights/941521/0/tf_graph_data/\n",
            "  inflating: alphafold-casp13-weights/941521/0/tf_graph_data/tf_graph_data.ckpt.data-00000-of-00001  [binary]\n",
            "  inflating: alphafold-casp13-weights/941521/0/tf_graph_data/tf_graph_data.ckpt.index  [binary]\n",
            "  inflating: alphafold-casp13-weights/941521/0/tf_graph_data/tf_graph_data.ckpt.meta  [binary]\n",
            "  inflating: alphafold-casp13-weights/941521/0/config.json  [text]  \n",
            "  inflating: alphafold-casp13-weights/941521/stats_train_s35.json  [text]  \n",
            "  inflating: alphafold-casp13-weights/LICENSE.txt  [text]  \n",
            "Archive:  t0949.zip\n",
            "   creating: alphafold-casp13-data/T0949/\n",
            "  inflating: alphafold-casp13-data/T0949/LICENSE.txt  [binary]\n",
            "  inflating: alphafold-casp13-data/T0949/T0949.tfrec  [binary]\n",
            "   creating: alphafold-casp13-data/T0949/contacts/\n",
            "  inflating: alphafold-casp13-data/T0949/contacts/T0949.rr  [binary]\n",
            "  inflating: alphafold-casp13-data/T0949/contacts/T0949.pickle  [binary]\n"
          ],
          "name": "stdout"
        }
      ]
    },
    {
      "cell_type": "code",
      "metadata": {
        "colab": {
          "base_uri": "https://localhost:8080/"
        },
        "id": "rBYbHI7GKvJT",
        "outputId": "c2e1e06c-c694-4aa7-86a9-e6484fc4a015"
      },
      "source": [
        "!pip install dm-sonnet"
      ],
      "execution_count": null,
      "outputs": [
        {
          "output_type": "stream",
          "text": [
            "Collecting dm-sonnet\n",
            "\u001b[?25l  Downloading https://files.pythonhosted.org/packages/13/28/9185afffefb655ef1a29f4b84aa9f656826408ca2d1b9ffeba81fbfd40ec/dm_sonnet-2.0.0-py3-none-any.whl (254kB)\n",
            "\u001b[K     |████████████████████████████████| 256kB 4.4MB/s \n",
            "\u001b[?25hRequirement already satisfied: six>=1.12.0 in /usr/local/lib/python3.7/dist-packages (from dm-sonnet) (1.15.0)\n",
            "Requirement already satisfied: tabulate>=0.7.5 in /usr/local/lib/python3.7/dist-packages (from dm-sonnet) (0.8.9)\n",
            "Requirement already satisfied: absl-py>=0.7.1 in /usr/local/lib/python3.7/dist-packages (from dm-sonnet) (0.12.0)\n",
            "Requirement already satisfied: dm-tree>=0.1.1 in /usr/local/lib/python3.7/dist-packages (from dm-sonnet) (0.1.5)\n",
            "Requirement already satisfied: numpy>=1.16.3 in /usr/local/lib/python3.7/dist-packages (from dm-sonnet) (1.19.5)\n",
            "Requirement already satisfied: wrapt>=1.11.1 in /usr/local/lib/python3.7/dist-packages (from dm-sonnet) (1.12.1)\n",
            "Installing collected packages: dm-sonnet\n",
            "Successfully installed dm-sonnet-2.0.0\n"
          ],
          "name": "stdout"
        }
      ]
    },
    {
      "cell_type": "code",
      "metadata": {
        "id": "o2Gf6QjWCz2n"
      },
      "source": [
        "import tensorflow as tf\n",
        "import numpy as np\n",
        "import IPython.display as display\n",
        "\n",
        "import os, sys"
      ],
      "execution_count": null,
      "outputs": []
    },
    {
      "cell_type": "markdown",
      "metadata": {
        "id": "LemsA8TYYZG_"
      },
      "source": [
        "# Feature Loading"
      ]
    },
    {
      "cell_type": "code",
      "metadata": {
        "id": "L5imesqqoclo"
      },
      "source": [
        "NUM_RES = 'sequence_length_placeholder' \n",
        "FEATURES = {\n",
        "    'aatype': ('float32', [NUM_RES, 21]),\n",
        "    'alpha_mask': ('int64', [NUM_RES, 1]),\n",
        "    'alpha_positions': ('float32', [NUM_RES, 3]),\n",
        "    'beta_mask': ('int64', [NUM_RES, 1]),\n",
        "    'beta_positions': ('float32', [NUM_RES, 3]),\n",
        "    'between_segment_residues': ('int64', [NUM_RES, 1]),\n",
        "    'chain_name': ('string', [1]),\n",
        "    'deletion_probability': ('float32', [NUM_RES, 1]),\n",
        "    'domain_name': ('string', [1]),\n",
        "    'gap_matrix': ('float32', [NUM_RES, NUM_RES, 1]),\n",
        "    'hhblits_profile': ('float32', [NUM_RES, 22]),\n",
        "    'hmm_profile': ('float32', [NUM_RES, 30]),\n",
        "    #'key': ('string', [1]),\n",
        "    'mutual_information': ('float32', [NUM_RES, NUM_RES, 1]),\n",
        "    'non_gapped_profile': ('float32', [NUM_RES, 21]),\n",
        "    'num_alignments': ('int64', [NUM_RES, 1]),\n",
        "    'num_effective_alignments': ('float32', [1]),\n",
        "    'phi_angles': ('float32', [NUM_RES, 1]),\n",
        "    'phi_mask': ('int64', [NUM_RES, 1]),\n",
        "    'profile': ('float32', [NUM_RES, 21]),\n",
        "    'profile_with_prior': ('float32', [NUM_RES, 22]),\n",
        "    'profile_with_prior_without_gaps': ('float32', [NUM_RES, 21]),\n",
        "    'pseudo_bias': ('float32', [NUM_RES, 22]),\n",
        "    'pseudo_frob': ('float32', [NUM_RES, NUM_RES, 1]),\n",
        "    'pseudolikelihood': ('float32', [NUM_RES, NUM_RES, 484]),\n",
        "    'psi_angles': ('float32', [NUM_RES, 1]),\n",
        "    'psi_mask': ('int64', [NUM_RES, 1]),\n",
        "    'residue_index': ('int64', [NUM_RES, 1]),\n",
        "    'resolution': ('float32', [1]),\n",
        "    'reweighted_profile': ('float32', [NUM_RES, 22]),\n",
        "    'sec_structure': ('int64', [NUM_RES, 8]),\n",
        "    'sec_structure_mask': ('int64', [NUM_RES, 1]),\n",
        "    'seq_length': ('int64', [NUM_RES, 1]),\n",
        "    'sequence': ('string', [1]),\n",
        "    'solv_surf': ('float32', [NUM_RES, 1]),\n",
        "    'solv_surf_mask': ('int64', [NUM_RES, 1]),\n",
        "    'superfamily': ('string', [1]),\n",
        "}"
      ],
      "execution_count": null,
      "outputs": []
    },
    {
      "cell_type": "markdown",
      "metadata": {
        "id": "xcXS1SwkSlC8"
      },
      "source": [
        "**Analysis:**\n",
        " Each file has tfrec/contacts/rr/pickle file in it.<br>\n",
        " Tfrec is the features for model input.<br>\n",
        " rr is predicted contact map derived from distogram.<br>\n",
        " pickle file contains predicted distogram.<br>\n",
        " contents/ files in this are for utility.<br>\n",
        "\n",
        " the \"key\" feature needed to be commented out since it caused issues. Maybe its non-existant in the data?"
      ]
    },
    {
      "cell_type": "code",
      "metadata": {
        "id": "jcWHU2CedZeW"
      },
      "source": [
        "FEATURE_TYPES = {k: v[0] for k, v in FEATURES.items()}\n",
        "FEATURE_SIZES = {k: v[1] for k, v in FEATURES.items()}\n",
        "\n",
        "def shape(feature_name, num_residues, features=None):\n",
        "  \"\"\"Get the shape for the given feature name.\n",
        "  Args:\n",
        "    feature_name: String identifier for the feature. If the feature name ends\n",
        "      with \"_unnormalized\", theis suffix is stripped off.\n",
        "    num_residues: The number of residues in the current domain - some elements\n",
        "      of the shape can be dynamic and will be replaced by this value.\n",
        "    features: A feature_name to (tf_dtype, shape) lookup; defaults to FEATURES.\n",
        "  Returns:\n",
        "    List of ints representation the tensor size.\n",
        "  \"\"\"\n",
        "  features = features or FEATURES\n",
        "  if feature_name.endswith('_unnormalized'):\n",
        "    feature_name = feature_name[:-13]\n",
        "\n",
        "  unused_dtype, raw_sizes = features[feature_name]\n",
        "  replacements = {NUM_RES: num_residues}\n",
        "\n",
        "  sizes = [replacements.get(dimension, dimension) for dimension in raw_sizes]\n",
        "  return sizes\n",
        "\n",
        "\n",
        "def parse_tfexample(raw_data, features):\n",
        "  \"\"\"Read a single TF Example proto and return a subset of its features.\n",
        "  Args:\n",
        "    raw_data: A serialized tf.Example proto.\n",
        "    features: A dictionary of features, mapping string feature names to a tuple\n",
        "      (dtype, shape). This dictionary should be a subset of\n",
        "      protein_features.FEATURES (or the dictionary itself for all features).\n",
        "  Returns:\n",
        "    A dictionary of features mapping feature names to features. Only the given\n",
        "    features are returned, all other ones are filtered out.\n",
        "  \"\"\"\n",
        "  feature_map = {\n",
        "      k: tf.io.FixedLenSequenceFeature(shape=(), dtype=v[0], allow_missing=True)\n",
        "      for k, v in features.items()\n",
        "  }\n",
        "  parsed_features = tf.io.parse_single_example(raw_data, feature_map)\n",
        "\n",
        "  # Find out what is the number of sequences and the number of alignments.\n",
        "  num_residues = tf.cast(parsed_features['seq_length'][0], dtype=tf.int32)\n",
        "\n",
        "  # Reshape the tensors according to the sequence length and num alignments.\n",
        "  for k, v in parsed_features.items():\n",
        "    new_shape = shape(feature_name=k, num_residues=num_residues)\n",
        "    # Make sure the feature we are reshaping is not empty.\n",
        "    assert_non_empty = tf.assert_greater(\n",
        "        tf.size(v), 0, name='assert_%s_non_empty' % k,\n",
        "        message='The feature %s is not set in the tf.Example. Either do not '\n",
        "        'request the feature or use a tf.Example that has the feature set.' % k)\n",
        "    with tf.control_dependencies([assert_non_empty]):\n",
        "      parsed_features[k] = tf.reshape(v, new_shape, name='reshape_%s' % k)\n",
        "\n",
        "  return parsed_features\n",
        "\n",
        "\n",
        "def create_tf_dataset(tf_record_filename, features):\n",
        "  \"\"\"Creates an instance of tf.data.Dataset backed by a protein dataset SSTable.\n",
        "  Args:\n",
        "    tf_record_filename: A string with filename of the TFRecord file.\n",
        "    features: A list of strings of feature names to be returned in the dataset.\n",
        "  Returns:\n",
        "    A tf.data.Dataset object. Its items are dictionaries from feature names to\n",
        "    feature values.\n",
        "  \"\"\"\n",
        "  # Make sure these features are always read.\n",
        "  required_features = ['aatype', 'sequence', 'seq_length']\n",
        "  features = list(set(features) | set(required_features))\n",
        "  features = {name: FEATURES[name] for name in features}\n",
        "\n",
        "  tf_dataset = tf.data.TFRecordDataset(filenames=[tf_record_filename])\n",
        "  tf_dataset = tf_dataset.map(lambda raw: parse_tfexample(raw, features))\n",
        "\n",
        "  return tf_dataset"
      ],
      "execution_count": null,
      "outputs": []
    },
    {
      "cell_type": "code",
      "metadata": {
        "colab": {
          "base_uri": "https://localhost:8080/"
        },
        "id": "gQQ7NoUdsGBt",
        "outputId": "a7916e66-d640-4dda-ee5b-8cd66d26fcc8"
      },
      "source": [
        "# Load single example from data set\n",
        "tf_record_filename = 'alphafold-casp13-data/T0949/T0949.tfrec'\n",
        "alphafold_dataset_record_raw = create_tf_dataset(tf_record_filename, FEATURES)\n",
        "\n",
        "for a in alphafold_dataset_record_raw:\n",
        "  print(a['sequence'])"
      ],
      "execution_count": null,
      "outputs": [
        {
          "output_type": "stream",
          "text": [
            "tf.Tensor([b'YKPDRMTWHVGEKVELTIDNRSQSAPPIAHQFSIGRTLVSRDNGFPKSQAIAVGWKDNFFDGVPITSGGQTGPVPAFSVSLNGGQKYTFSFVVPNKPGKWEYGCFLQTGQHFMNGMHGILDILPAQGS'], shape=(1,), dtype=string)\n",
            "tf.Tensor([b'MAAKKGMTTVLVSAVICAGVIIGALQWEKAVALPNPSGQVINGVHHYTIDEFNYYYKPDRMTWH'], shape=(1,), dtype=string)\n",
            "tf.Tensor([b'DNGFPKSQAIAVGWKDNFFDGVPITSGGQTGPVPAFSVSLNGGQKYTFSFVVPNKPGKWEYGCF'], shape=(1,), dtype=string)\n",
            "tf.Tensor([b'VGEKVELTIDNRSQSAPPIAHQFSIGRTLVSRDNGFPKSQAIAVGWKDNFFDGVPITSGGQTGP'], shape=(1,), dtype=string)\n",
            "tf.Tensor([b'MAAKKGMTTVLVSAVICAGVIIGALQWEKAVALPNPSGQVINGVHHYTIDEFNYYYKPDRMTWHVGEKVELTIDNRSQSAPPIAHQFSIGRTLVSRDNGFPKSQAIAVGWKDNFFDGVPITSGGQTGP'], shape=(1,), dtype=string)\n",
            "tf.Tensor([b'ITSGGQTGPVPAFSVSLNGGQKYTFSFVVPNKPGKWEYGCFLQTGQHFMNGMHGILDILPAQGS'], shape=(1,), dtype=string)\n",
            "tf.Tensor([b'LPNPSGQVINGVHHYTIDEFNYYYKPDRMTWHVGEKVELTIDNRSQSAPPIAHQFSIGRTLVSR'], shape=(1,), dtype=string)\n",
            "tf.Tensor([b'MAAKKGMTTVLVSAVICAGVIIGALQWEKAVALPNPSGQVINGVHHYTIDEFNYYYKPDRMTWHVGEKVELTIDNRSQSAPPIAHQFSIGRTLVSRDNGFPKSQAIAVGWKDNFFDGVPITSGGQTGPVPAFSVSLNGGQKYTFSFVVPNKPGKWEYGCFLQTGQHFMNGMHGILDILPAQGS'], shape=(1,), dtype=string)\n",
            "tf.Tensor([b'LPNPSGQVINGVHHYTIDEFNYYYKPDRMTWHVGEKVELTIDNRSQSAPPIAHQFSIGRTLVSRDNGFPKSQAIAVGWKDNFFDGVPITSGGQTGPVPAFSVSLNGGQKYTFSFVVPNKPGKWEYGCF'], shape=(1,), dtype=string)\n"
          ],
          "name": "stdout"
        }
      ]
    },
    {
      "cell_type": "code",
      "metadata": {
        "id": "IybWzT4qVSJs",
        "colab": {
          "base_uri": "https://localhost:8080/"
        },
        "outputId": "7c87b538-c3d1-4abc-8fd0-d19176bf84a3"
      },
      "source": [
        "import json\n",
        "import tensorflow as tf\n",
        "\n",
        "stats_file_path = 'alphafold-casp13-weights/873731/stats_train_s35.json'\n",
        "config_file_path = 'alphafold-casp13-weights/873731/1/config.json'\n",
        "\n",
        "# Load the first distogram replica config file\n",
        "with tf.io.gfile.GFile(config_file_path, 'r') as f:\n",
        "  config = json.load(f)\n",
        "  network_config = config['network_config']\n",
        "\n",
        "config"
      ],
      "execution_count": null,
      "outputs": [
        {
          "output_type": "execute_result",
          "data": {
            "text/plain": [
              "{'crop_size_x': 64,\n",
              " 'crop_size_y': 64,\n",
              " 'eval_config': {'crop_shingle_x': 16,\n",
              "  'crop_shingle_y': 16,\n",
              "  'eval_sstable': '',\n",
              "  'max_num_examples': 500,\n",
              "  'output_path': '',\n",
              "  'pyramid_weights': 0.75,\n",
              "  'save_rr_files': True,\n",
              "  'stats_file': None},\n",
              " 'feature_normalization': 'std',\n",
              " 'network_config': {'asa_multiplier': 0.001,\n",
              "  'binary_code_bits': 4,\n",
              "  'data_format': 'NCHW',\n",
              "  'distance_multiplier': 0.0,\n",
              "  'features': ['profile',\n",
              "   'hhblits_profile',\n",
              "   'aatype',\n",
              "   'pseudo_frob',\n",
              "   'pseudolikelihood',\n",
              "   'deletion_probability',\n",
              "   'gap_matrix',\n",
              "   'pseudo_bias',\n",
              "   'profile_with_prior',\n",
              "   'profile_with_prior_without_gaps',\n",
              "   'reweighted_profile',\n",
              "   'non_gapped_profile',\n",
              "   'hmm_profile',\n",
              "   'num_alignments',\n",
              "   'seq_length'],\n",
              "  'features_forward': 0,\n",
              "  'max_range': 20.0,\n",
              "  'min_range': 2.0,\n",
              "  'network_2d_deep': {'extra_blocks': 7,\n",
              "   'num_blocks': 48,\n",
              "   'num_filters': 128,\n",
              "   'num_layers_per_block': 4,\n",
              "   'use_batch_norm': True},\n",
              "  'num_bins': 64,\n",
              "  'position_specific_bias_size': 32,\n",
              "  'reshape_layer': True,\n",
              "  'resolution_noise_scale': True,\n",
              "  'scalars': ['num_effective_alignments', 'resolution'],\n",
              "  'secstruct_multiplier': 0.005,\n",
              "  'skip_connect': False,\n",
              "  'targets': ['sec_structure',\n",
              "   'sec_structure_mask',\n",
              "   'solv_surf',\n",
              "   'solv_surf_mask',\n",
              "   'beta_positions',\n",
              "   'beta_mask',\n",
              "   'domain_name',\n",
              "   'chain_name',\n",
              "   'resolution',\n",
              "   'num_alignments',\n",
              "   'superfamily',\n",
              "   'profile',\n",
              "   'hhblits_profile',\n",
              "   'residue_index',\n",
              "   'between_segment_residues'],\n",
              "  'torsion_bins': 0},\n",
              " 'normalization_exclusion': ['aatype']}"
            ]
          },
          "metadata": {
            "tags": []
          },
          "execution_count": 7
        }
      ]
    },
    {
      "cell_type": "code",
      "metadata": {
        "id": "vGiuGJo88Z8m"
      },
      "source": [
        "# from google.colab import drive\n",
        "# drive.mount('/content/drive')"
      ],
      "execution_count": null,
      "outputs": []
    },
    {
      "cell_type": "markdown",
      "metadata": {
        "id": "YVmSOIQZg3is"
      },
      "source": [
        "Config:\n",
        "- The config is used to configure various features, such as the network configuration\n",
        "- the \"features\" are the input features actually used to perform the prediction\n",
        "- the \"targets\" are the features the program will generate or predcit\n"
      ]
    },
    {
      "cell_type": "code",
      "metadata": {
        "id": "bWzKss52PDVa"
      },
      "source": [
        "# from google.colab import drive\n",
        "# drive.mount('/content/drive')"
      ],
      "execution_count": null,
      "outputs": []
    },
    {
      "cell_type": "markdown",
      "metadata": {
        "id": "aQTvAbaeYC0e"
      },
      "source": [
        "# Feature analysis"
      ]
    },
    {
      "cell_type": "code",
      "metadata": {
        "id": "yr8tIU25YADR",
        "colab": {
          "base_uri": "https://localhost:8080/"
        },
        "outputId": "a848037f-b9d9-4c79-a41d-3bb4822ea883"
      },
      "source": [
        "import matplotlib.pyplot as plt\n",
        "\n",
        "# Load single example from data set\n",
        "protien='T0949'\n",
        "tf_record_filename = 'alphafold-casp13-data/'+protien+'/'+protien+'.tfrec'\n",
        "alphafold_dataset_record_raw = create_tf_dataset(tf_record_filename, FEATURES)\n",
        "\n",
        "for a in alphafold_dataset_record_raw.batch(1).skip(7).take(1):\n",
        "  #sequences with length\n",
        "  #seq=a['sequence'].numpy()[0].decode(\"utf-8\") \n",
        "  #print(\"Sequence:\",seq) \n",
        "  #print(\"sequence length\",len(seq))\n",
        "  print(a['pseudolikelihood'][0,0,0])\n"
      ],
      "execution_count": null,
      "outputs": [
        {
          "output_type": "stream",
          "text": [
            "tf.Tensor(\n",
            "[0. 0. 0. 0. 0. 0. 0. 0. 0. 0. 0. 0. 0. 0. 0. 0. 0. 0. 0. 0. 0. 0. 0. 0.\n",
            " 0. 0. 0. 0. 0. 0. 0. 0. 0. 0. 0. 0. 0. 0. 0. 0. 0. 0. 0. 0. 0. 0. 0. 0.\n",
            " 0. 0. 0. 0. 0. 0. 0. 0. 0. 0. 0. 0. 0. 0. 0. 0. 0. 0. 0. 0. 0. 0. 0. 0.\n",
            " 0. 0. 0. 0. 0. 0. 0. 0. 0. 0. 0. 0. 0. 0. 0. 0. 0. 0. 0. 0. 0. 0. 0. 0.\n",
            " 0. 0. 0. 0. 0. 0. 0. 0. 0. 0. 0. 0. 0. 0. 0. 0. 0. 0. 0. 0. 0. 0. 0. 0.\n",
            " 0. 0. 0. 0. 0. 0. 0. 0. 0. 0. 0. 0. 0. 0. 0. 0. 0. 0. 0. 0. 0. 0. 0. 0.\n",
            " 0. 0. 0. 0. 0. 0. 0. 0. 0. 0. 0. 0. 0. 0. 0. 0. 0. 0. 0. 0. 0. 0. 0. 0.\n",
            " 0. 0. 0. 0. 0. 0. 0. 0. 0. 0. 0. 0. 0. 0. 0. 0. 0. 0. 0. 0. 0. 0. 0. 0.\n",
            " 0. 0. 0. 0. 0. 0. 0. 0. 0. 0. 0. 0. 0. 0. 0. 0. 0. 0. 0. 0. 0. 0. 0. 0.\n",
            " 0. 0. 0. 0. 0. 0. 0. 0. 0. 0. 0. 0. 0. 0. 0. 0. 0. 0. 0. 0. 0. 0. 0. 0.\n",
            " 0. 0. 0. 0. 0. 0. 0. 0. 0. 0. 0. 0. 0. 0. 0. 0. 0. 0. 0. 0. 0. 0. 0. 0.\n",
            " 0. 0. 0. 0. 0. 0. 0. 0. 0. 0. 0. 0. 0. 0. 0. 0. 0. 0. 0. 0. 0. 0. 0. 0.\n",
            " 0. 0. 0. 0. 0. 0. 0. 0. 0. 0. 0. 0. 0. 0. 0. 0. 0. 0. 0. 0. 0. 0. 0. 0.\n",
            " 0. 0. 0. 0. 0. 0. 0. 0. 0. 0. 0. 0. 0. 0. 0. 0. 0. 0. 0. 0. 0. 0. 0. 0.\n",
            " 0. 0. 0. 0. 0. 0. 0. 0. 0. 0. 0. 0. 0. 0. 0. 0. 0. 0. 0. 0. 0. 0. 0. 0.\n",
            " 0. 0. 0. 0. 0. 0. 0. 0. 0. 0. 0. 0. 0. 0. 0. 0. 0. 0. 0. 0. 0. 0. 0. 0.\n",
            " 0. 0. 0. 0. 0. 0. 0. 0. 0. 0. 0. 0. 0. 0. 0. 0. 0. 0. 0. 0. 0. 0. 0. 0.\n",
            " 0. 0. 0. 0. 0. 0. 0. 0. 0. 0. 0. 0. 0. 0. 0. 0. 0. 0. 0. 0. 0. 0. 0. 0.\n",
            " 0. 0. 0. 0. 0. 0. 0. 0. 0. 0. 0. 0. 0. 0. 0. 0. 0. 0. 0. 0. 0. 0. 0. 0.\n",
            " 0. 0. 0. 0. 0. 0. 0. 0. 0. 0. 0. 0. 0. 0. 0. 0. 0. 0. 0. 0. 0. 0. 0. 0.\n",
            " 0. 0. 0. 0.], shape=(484,), dtype=float32)\n"
          ],
          "name": "stdout"
        }
      ]
    },
    {
      "cell_type": "markdown",
      "metadata": {
        "id": "p-V_x6v-sJ2D"
      },
      "source": [
        "**Analysis of Features**:\n",
        "\n",
        "1. aatype: There are 21 unique amino acids and aatype is one hot encoding of these amino acids in form of a matrix of a shape 128x21. Where first row is non-zero at index of first amino acis in protien sequence.<br>\n",
        "2. sequence: For T0949, the 183 length sequence is the original sequence. \n",
        "Other sequence lengths for other protiens is also wether 128 or 64.\n",
        "For T1016: 203 is original sequence.\n",
        "So the sequence with longest length is original one.\n",
        "3. Gapp matrix: tells us about the gap based variations between aligned sequences. Size of gap matrix is seq_lengthxseq_length"
      ]
    },
    {
      "cell_type": "markdown",
      "metadata": {
        "id": "IhAlh7pRYlvO"
      },
      "source": [
        "# Feature Processing"
      ]
    },
    {
      "cell_type": "markdown",
      "metadata": {
        "id": "bHp-cboyZYk7"
      },
      "source": [
        "Walkthrough:\n",
        "1. Normalize the data based on stats\n",
        "2. Gather the inputs data data into the features by feature size (0D, 1D and 2D)\n",
        "3. Embed low-dimensional features into higher dimensions\n",
        "4. "
      ]
    },
    {
      "cell_type": "code",
      "metadata": {
        "id": "R-ZGEfIFewzh"
      },
      "source": [
        "import collections\n",
        "\n",
        "ProteinExample = collections.namedtuple('ProteinExample', (\n",
        "        'length', 'sequence', 'inputs_1d', 'inputs_2d', 'targets', 'residue_indices'))\n",
        "\n",
        "class FeatureProcessor():\n",
        "  def _load_dataset(self, tf_record_filename):\n",
        "    features_to_load = self.features + self.targets\n",
        "    return create_tf_dataset(tf_record_filename, features_to_load)\n",
        "\n",
        "  def _normalize(self, data_row):\n",
        "    for feature_name in self.copy_normalized_features:\n",
        "      data_row[feature_name + '_unnormalized'] = data_row[feature_name]\n",
        "      \n",
        "    range_epsilon = 1e-12 # This is what alphafold uses\n",
        "    for feature_name, feature_value in data_row.items():\n",
        "      if feature_name in self.normalized_features:\n",
        "        feature_as_float = tf.cast(feature_value, dtype=tf.float32)\n",
        "        train_mean = tf.cast(self.normalization_stats['mean'][feature_name], dtype=tf.float32)\n",
        "        train_range = tf.sqrt(tf.cast(self.normalization_stats['var'][feature_name], dtype=tf.float32))\n",
        "        normalized_feature = feature_as_float - train_mean\n",
        "        normalized_feature = tf.where(train_range > range_epsilon, normalized_feature / train_range, normalized_feature)\n",
        "        data_row[feature_name] = normalized_feature\n",
        "    return data_row\n",
        "\n",
        "  def _group_by_dim(self, data_row):\n",
        "    inputs_1d = []\n",
        "    inputs_2d = []\n",
        "\n",
        "    for feature_name in self.features:\n",
        "      feature_as_float = tf.cast(data_row[feature_name], dtype=tf.float32)\n",
        "      dim = len(feature_as_float.shape) - 1\n",
        "      if dim == 1:\n",
        "        inputs_1d.append(feature_as_float)\n",
        "      elif dim == 2:\n",
        "        inputs_2d.append(feature_as_float)\n",
        "      else:\n",
        "        raise f'Data type {feature_name} was not 1D or 2D '\n",
        "\n",
        "    inputs_1d = tf.concat(inputs_1d, axis=1, name='inputs_1d_concat')\n",
        "    inputs_2d = tf.concat(inputs_2d, axis=2, name='inputs_2d_concat')\n",
        "\n",
        "    sequence = data_row['sequence']\n",
        "    sequence_length = tf.strings.length(data_row['sequence'])[0]\n",
        "    \n",
        "    targets = []\n",
        "    for target_name in self.targets:\n",
        "      targets.append(data_row.get(target_name + '_unnormalized', data_row[target_name]))\n",
        "\n",
        "    residue_indices = tf.range(sequence_length)\n",
        "\n",
        "    target_class = collections.namedtuple('_TargetClass', self.targets)\n",
        "    targets = target_class(*targets)\n",
        "\n",
        "    return ProteinExample(length=sequence_length, sequence=sequence,\n",
        "      inputs_1d=inputs_1d, inputs_2d=inputs_2d, targets=targets, residue_indices=residue_indices)\n",
        "    \n",
        "  def process_load(self):\n",
        "    # Load the normalization statstics files (see text below this code cell)\n",
        "    with tf.io.gfile.GFile(stats_file_path, 'r') as f:\n",
        "      self.normalization_stats = json.load(f)\n",
        "    \n",
        "    return self._load_dataset(tf_record_filename)\n",
        "\n",
        "  def process_normalize(self, dataset):\n",
        "    return dataset.map(self._normalize)\n",
        "\n",
        "  def process_all(self):\n",
        "    dataset = self.process_load()\n",
        "    dataset = self.process_normalize(dataset)\n",
        "    dataset = dataset.map(self._group_by_dim)\n",
        "    \n",
        "    return dataset\n",
        "\n",
        "  def __init__(self, config, tf_record_filename, stats_file_path):\n",
        "    network_config = config['network_config']\n",
        "    self.processed = False\n",
        "    self.features = network_config['features']\n",
        "    self.targets = network_config['targets']\n",
        "    if network_config.get('is_ca_feature'):\n",
        "      Raise('is_ca_feature needs to be implemented')\n",
        "    self.normalized_features = list(set(self.features) - set(config['normalization_exclusion']))  # Calculate the features to normalize (all features but the specified excluded features)\n",
        "    self.copy_normalized_features = list(set(self.features) & set(self.targets)) + ['num_alignments'] # The number of alignments is a required unnormalized feature\n",
        "\n",
        "\n"
      ],
      "execution_count": null,
      "outputs": []
    },
    {
      "cell_type": "code",
      "metadata": {
        "id": "eOAPzFnWRzjT",
        "colab": {
          "base_uri": "https://localhost:8080/"
        },
        "outputId": "e5a8c33b-7136-4b0c-86c2-774d0ed92214"
      },
      "source": [
        "\n",
        "feature_processor = FeatureProcessor(config, tf_record_filename, stats_file_path)\n",
        "dataset = feature_processor.process_load()\n",
        "dataset = feature_processor.process_normalize(dataset)\n",
        "\n",
        "# Print a single row of the 'profile' feature to show it was normalized\n",
        "for row in dataset:\n",
        "  print('Unnormalized:')\n",
        "  print(row['profile_unnormalized'][0])\n",
        "  print('Normalized:')\n",
        "  print(row['profile'][0])\n",
        "  break"
      ],
      "execution_count": null,
      "outputs": [
        {
          "output_type": "stream",
          "text": [
            "Unnormalized:\n",
            "tf.Tensor(\n",
            "[-5.039317  -5.4678125 -6.469308  -5.717181   7.6380033 -6.2320714\n",
            " -2.3372927 -3.5040057 -5.5379925 -2.9782465 -3.2472908 -5.6505513\n",
            " -6.454431  -5.324968  -5.313705  -5.086352  -4.8956    -3.926476\n",
            " -1.1106635 -1.         7.5397177], shape=(21,), dtype=float32)\n",
            "Normalized:\n",
            "tf.Tensor(\n",
            "[-1.1923759  -1.3460882  -1.7053503  -1.4355432   3.3553052  -1.6202475\n",
            " -0.22309014 -0.6416201  -1.3712635  -0.45301676 -0.5495299  -1.4116412\n",
            " -1.7000136  -1.2948462  -1.2908058  -1.2092484  -1.1408207  -0.7931711\n",
            "  0.21693328  0.25663114  3.3200476 ], shape=(21,), dtype=float32)\n"
          ],
          "name": "stdout"
        }
      ]
    },
    {
      "cell_type": "markdown",
      "metadata": {
        "id": "ABs5p1OIhSNC"
      },
      "source": [
        "- We take the input features and normalize them in the feature process. \n",
        "- The normalization method is a pre-computed statistics by the alphafold team file with the mean and the variance\n",
        "- The normalization is computed by centering the data on the mean (subtracting the mean) then dividing by the variance.\n",
        "- Do avoid normalization essentially truncating to 0 or an even smaller value, the ellipson threshold is used to ignore normalization. if ellipson was say 0.001, then the value .0009 would be left unchanged so it wasn't accidentally truncated to 0 if the variance was large\n"
      ]
    },
    {
      "cell_type": "code",
      "metadata": {
        "id": "jJeiKWvzZkLb",
        "colab": {
          "base_uri": "https://localhost:8080/"
        },
        "outputId": "7e1fc3f2-114f-40f6-e0d5-2f088eb4f0b0"
      },
      "source": [
        "feature_processor = FeatureProcessor(config, tf_record_filename, stats_file_path)\n",
        "dataset = feature_processor.process_all()\n",
        "\n",
        "# Print a single row of the 'profile' feature to show it was normalized\n",
        "for row in dataset:\n",
        "  print(row.sequence)\n",
        "  print(row.inputs_1d[0][0])\n",
        "  break"
      ],
      "execution_count": null,
      "outputs": [
        {
          "output_type": "stream",
          "text": [
            "tf.Tensor([b'YKPDRMTWHVGEKVELTIDNRSQSAPPIAHQFSIGRTLVSRDNGFPKSQAIAVGWKDNFFDGVPITSGGQTGPVPAFSVSLNGGQKYTFSFVVPNKPGKWEYGCFLQTGQHFMNGMHGILDILPAQGS'], shape=(1,), dtype=string)\n",
            "tf.Tensor(-1.1923759, shape=(), dtype=float32)\n"
          ],
          "name": "stdout"
        }
      ]
    },
    {
      "cell_type": "code",
      "metadata": {
        "id": "yDQg6yNsSovu",
        "colab": {
          "base_uri": "https://localhost:8080/"
        },
        "outputId": "af210c0b-21a8-4605-838d-839f728493e6"
      },
      "source": [
        "for row in dataset:\n",
        "  print(row.inputs_1d.shape)\n",
        "  print(row.inputs_2d.shape)\n",
        "  break;\n"
      ],
      "execution_count": null,
      "outputs": [
        {
          "output_type": "stream",
          "text": [
            "(128, 205)\n",
            "(128, 128, 486)\n"
          ],
          "name": "stdout"
        }
      ]
    },
    {
      "cell_type": "markdown",
      "metadata": {
        "id": "1WDPgfIavcW4"
      },
      "source": [
        "# Cropping"
      ]
    },
    {
      "cell_type": "markdown",
      "metadata": {
        "id": "ep0CjS77jtyU"
      },
      "source": [
        "Cropping takes the "
      ]
    },
    {
      "cell_type": "code",
      "metadata": {
        "id": "_ZJlWI2GwlLx"
      },
      "source": [
        "Rectangle = collections.namedtuple('Rectangle', ('x', 'y', 'size_x', 'size_y', 'end_x', 'end_y'))\n",
        "SingleCrop = collections.namedtuple('SingleCrop', ('rectangle', 'inputs_2d'))\n",
        "\n",
        "class SingleCrop:\n",
        "  def __init__(self, rectangle, batch): \n",
        "    self.rectangle = rectangle\n",
        "    self.batch = batch\n",
        "    self.length = self.batch.length[0]\n",
        "\n",
        "    # Calculate the region of the input data\n",
        "    self.data_x = max(0, rectangle.x)\n",
        "    self.data_y = max(0, rectangle.y)\n",
        "    self.data_end_x = min(self.length, rectangle.end_x)\n",
        "    self.data_end_y = min(self.length, rectangle.end_y)\n",
        "\n",
        "    # Calculate padding needed\n",
        "    self.prepad_x = max(0, -rectangle.x)\n",
        "    self.prepad_y = max(0, -rectangle.y)\n",
        "    self.postpad_x = rectangle.end_x - self.data_end_x\n",
        "    self.postpad_y = rectangle.end_y - self.data_end_y\n",
        "\n",
        "    self._pad_and_generate_diagonals_2d()\n",
        "\n",
        "  def _pad_and_generate_diagonals_2d(self): \n",
        "    inputs_2d = self.batch.inputs_2d\n",
        "    rectangle = self.rectangle\n",
        "\n",
        "    def pad_nhwc(input, pad_h, pad_w):\n",
        "      return np.pad(input, [[0, 0], pad_h, pad_w, [0, 0]], mode='constant')\n",
        "    \n",
        "    # Pad the input 2D data; Input data is of form 'NHWC'\n",
        "    inputs_2d = self.batch.inputs_2d[ :, self.data_y:self.data_end_y, self.data_x:self.data_end_x, :]\n",
        "    inputs_2d = pad_nhwc(inputs_2d, [self.prepad_y, self.postpad_y], [self.prepad_x, self.postpad_x])\n",
        "\n",
        "    assert inputs_2d.shape[1] == rectangle.size_y\n",
        "    assert inputs_2d.shape[2] == rectangle.size_x\n",
        "\n",
        "    # Generate diagonal data. That is data that encodes the local structure of both amino acids in the sequence\n",
        "    # Generate two diagonals: one for the first residue (x) and one for the second residue (y)\n",
        "    cxx = self.batch.inputs_2d[:, self.data_x:self.data_end_x, self.data_x:self.data_end_x, :]\n",
        "    cyy = self.batch.inputs_2d[:, self.data_y:self.data_end_y, self.data_y:self.data_end_y, :]\n",
        "    if cxx.shape[1] < inputs_2d.shape[1]:\n",
        "      diagonal_offset_x = max(0, rectangle.x + rectangle.size_y - self.length)\n",
        "      cxx = pad_nhwc(cxx, [self.prepad_x, diagonal_offset_x],[self.prepad_x, self.postpad_x])\n",
        "    if cyy.shape[2] < inputs_2d.shape[2]:\n",
        "      diagonal_offset_y = max(0, rectangle.y + rectangle.size_x - self.length)\n",
        "      cyy = pad_nhwc(cyy, [self.prepad_y, self.postpad_y], [self.prepad_y, diagonal_offset_y])\n",
        "      \n",
        "    assert cxx.shape[1] == rectangle.size_y\n",
        "    assert cxx.shape[2] == rectangle.size_x\n",
        "    assert cyy.shape[1] == rectangle.size_y\n",
        "    assert cyy.shape[2] == rectangle.size_x\n",
        "\n",
        "    self.inputs_2d = np.concatenate([inputs_2d, cxx, cyy], 3)\n",
        "\n",
        "  def stitch_data_onto_hwc(self, from_live_input, onto_quilt_output):\n",
        "    onto_quilt_output[self.data_y:self.data_end_y, self.data_x:self.data_end_x, :] += from_live_input\n",
        "\n",
        "  def get_live_data_hwc(self, data):\n",
        "    return data[self.prepad_y:self.rectangle.size_y - self.postpad_y,\n",
        "                self.prepad_x: self.rectangle.size_x - self.postpad_x, :]\n",
        "                \n",
        "  def stitch_data_onto_hw(self, from_live_input, onto_quilt_output):\n",
        "    onto_quilt_output[self.data_y:self.data_end_y, self.data_x:self.data_end_x] += from_live_input\n",
        "\n",
        "  def get_live_data_hw(self, data):\n",
        "    return data[self.prepad_y:self.rectangle.size_y - self.postpad_y,\n",
        "                self.prepad_x: self.rectangle.size_x - self.postpad_x]\n",
        "class Cropper():\n",
        "  def pos_generator(self):\n",
        "    # Generate the \"moving\" crop positions\n",
        "    for i in range(-self.crop_size_x // 2, self.length - self.crop_size_x // 2, self.crop_step_x):\n",
        "      for j in range(-self.crop_size_y // 2, self.length - self.crop_size_y // 2, self.crop_step_y):\n",
        "        yield (i, j)\n",
        "\n",
        "  def __init__(self, config, protein_batch):\n",
        "    self.batch = protein_batch\n",
        "    self.length = self.batch.length[0]\n",
        "    self.crop_size_x = config['crop_size_x']\n",
        "    self.crop_size_y = config['crop_size_y']\n",
        "    self.crop_step_x = self.crop_size_x // config['eval_config']['crop_shingle_x']\n",
        "    self.crop_step_y = self.crop_size_y // config['eval_config']['crop_shingle_y']\n",
        "    self.pos_gen = self.pos_generator()\n",
        "\n",
        "  def get_crop_count(self):\n",
        "    x_crops = self.length // self.crop_step_x\n",
        "    y_crops = self.crop_size_y // 2 // self.crop_step_y\n",
        "    return x_crops * y_crops \n",
        "\n",
        "  def __iter__(self):\n",
        "    return self\n",
        "\n",
        "  def __next__(self):\n",
        "    i, j = next(self.pos_gen)\n",
        "\n",
        "    crop_rectangle = Rectangle(\n",
        "        x=i, y=j, size_x=self.crop_size_x, size_y=self.crop_size_x,\n",
        "        end_x=i+self.crop_size_x, end_y=j+self.crop_size_y)\n",
        "    \n",
        "    crop = SingleCrop(rectangle=crop_rectangle, batch=self.batch)\n",
        "    return crop"
      ],
      "execution_count": null,
      "outputs": []
    },
    {
      "cell_type": "code",
      "metadata": {
        "id": "9JTYbCh8YkZT",
        "colab": {
          "base_uri": "https://localhost:8080/"
        },
        "outputId": "ae9b6231-df1b-4b9d-f865-674c1f3c7786"
      },
      "source": [
        "# Print the first crop for each example\n",
        "feature_processor = FeatureProcessor(config, tf_record_filename, stats_file_path)\n",
        "dataset = feature_processor.process_all()\n",
        "protein_batch = iter(dataset.batch(1)).get_next()\n",
        "print(protein_batch.length[0])\n",
        "for crop in Cropper(config, protein_batch):\n",
        "  print(crop.rectangle)\n",
        "  break\n"
      ],
      "execution_count": null,
      "outputs": [
        {
          "output_type": "stream",
          "text": [
            "tf.Tensor(128, shape=(), dtype=int32)\n",
            "Rectangle(x=-32, y=-32, size_x=64, size_y=64, end_x=32, end_y=32)\n"
          ],
          "name": "stdout"
        }
      ]
    },
    {
      "cell_type": "markdown",
      "metadata": {
        "id": "pvzCsWv_loyO"
      },
      "source": [
        "We need to handling cropping, feature concatenation and then embedded all the features into 2D space so they can be passed into the network"
      ]
    },
    {
      "cell_type": "markdown",
      "metadata": {
        "id": "hSPAZePqXxMZ"
      },
      "source": [
        "#  Network"
      ]
    },
    {
      "cell_type": "code",
      "metadata": {
        "id": "1yWexcIsHqmm"
      },
      "source": [
        "import sonnet as snt\n",
        "\n",
        "# Create a new model using sonnet\n",
        "class AlphaFoldTestNetwork(snt.Module):\n",
        "  def __init__(self, output_size):\n",
        "    super(AlphaFoldTestNetwork, self).__init__()\n",
        "    self.output_size = output_size\n",
        "    \n",
        "  @snt.once # This is only called once to construct the model\n",
        "  def _initialize(self, inputs):\n",
        "    input_size = inputs.shape[1]\n",
        "    self.w = tf.Variable(tf.random.normal([input_size, self.output_size]))\n",
        "    self.b = tf.Variable(tf.zeros([self.output_size]))\n",
        "\n",
        "  def __call__(self, inputs):\n",
        "    self._initialize(inputs)\n",
        "    return tf.matmul(inputs, self.w) + self.b\n",
        "\n",
        "network = AlphaFoldTestNetwork(5)"
      ],
      "execution_count": null,
      "outputs": []
    },
    {
      "cell_type": "markdown",
      "metadata": {
        "id": "PAenoo3GYM89"
      },
      "source": [
        "The above is just a basic linear network as a placeholder of how to build networks with sonnet. The model will get filled out later when we finally build the full CNN "
      ]
    },
    {
      "cell_type": "markdown",
      "metadata": {
        "id": "9Pn8drKbGwUA"
      },
      "source": [
        "# Data Augmentation"
      ]
    },
    {
      "cell_type": "code",
      "metadata": {
        "id": "h8jKZsAIG33N"
      },
      "source": [
        "class DataAugmenter(snt.Module):\n",
        "  def __init__(self, crop_size_x, crop_size_y, binary_code_bits, name=None):\n",
        "    super().__init__(name=name)\n",
        "    self.binary_code_bits = binary_code_bits\n",
        "    self.crop_size_x = crop_size_x\n",
        "    self.crop_size_y = crop_size_y\n",
        "\n",
        "  def __call__(self, hidden_1d, hidden_2d_cropped, residue_index, crop_x, crop_y):\n",
        "    n = tf.shape(hidden_1d)[1]\n",
        "    n_x = self.crop_size_x\n",
        "    n_y = self.crop_size_y\n",
        "\n",
        "    def feature_crop(a, crop, size, dtype):\n",
        "      def per_sample(s):\n",
        "        c, h = s\n",
        "        cropped_1d = h[max(0, c[0]):c[1]]\n",
        "        paddings = tf.concat([max(0, -c[0]), max(0, size -(n - c[0]))], axis=0)\n",
        "        paddings = tf.expand_dims(paddings, axis=0)\n",
        "        paddings = tf.pad(paddings, [[0, tf.rank(cropped_1d)-1], [0, 0]])\n",
        "        return tf.pad(cropped_1d, paddings)\n",
        "      return tf.map_fn(per_sample, elems=(crop, a), dtype=dtype)\n",
        "\n",
        "    hidden_1d_cropped_y = feature_crop(hidden_1d, crop_y, n_y, dtype=tf.float32)\n",
        "    range_n_y = feature_crop(residue_index, crop_y, n_y, dtype=tf.int32)\n",
        "\n",
        "    hidden_1d_cropped_x = feature_crop(hidden_1d, crop_x, n_x, dtype=tf.float32)\n",
        "    range_n_x = feature_crop(residue_index, crop_x, n_x, dtype=tf.int32)\n",
        "    \n",
        "    range_scale = 100.0  # Crude normalization factor.\n",
        "\n",
        "    offset = (tf.expand_dims(tf.cast(range_n_x, tf.float32), 1) -\n",
        "              tf.expand_dims(tf.cast(range_n_y, tf.float32), 2)) / range_scale\n",
        "\n",
        "    position_features = [\n",
        "        tf.tile(\n",
        "            tf.reshape(\n",
        "                (tf.cast(range_n_y, tf.float32) - range_scale) / range_scale,\n",
        "                [-1, n_y, 1, 1]), [1, 1, n_x, 1],\n",
        "            name='TileRange'),\n",
        "        tf.tile(\n",
        "            tf.reshape(offset, [-1, n_y, n_x, 1]), [1, 1, 1, 1],\n",
        "            name='TileOffset')\n",
        "    ]\n",
        "    channels = 2\n",
        "    if self.binary_code_bits:\n",
        "      # Binary coding of position.\n",
        "      exp_range_n_y = tf.expand_dims(range_n_y, 2)\n",
        "      bin_y = tf.stop_gradient(\n",
        "          tf.concat([tf.math.floormod(exp_range_n_y // (1 << i), 2)\n",
        "                      for i in range(self.binary_code_bits)], 2))\n",
        "      exp_range_n_x = tf.expand_dims(range_n_x, 2)\n",
        "      bin_x = tf.stop_gradient(\n",
        "          tf.concat([tf.math.floormod(exp_range_n_x // (1 << i), 2)\n",
        "                      for i in range(self.binary_code_bits)], 2))\n",
        "      position_features += [\n",
        "          tf.tile(\n",
        "              tf.expand_dims(tf.cast(bin_y, tf.float32), 2), [1, 1, n_x, 1],\n",
        "              name='TileBinRangey'),\n",
        "          tf.tile(\n",
        "              tf.expand_dims(tf.cast(bin_x, tf.float32), 1), [1, n_y, 1, 1],\n",
        "              name='TileBinRangex')\n",
        "      ]\n",
        "      channels += 2 * self.binary_code_bits\n",
        "\n",
        "      augmentation_features = position_features + [\n",
        "          tf.tile(tf.expand_dims(hidden_1d_cropped_x, 1),\n",
        "                  [1, n_y, 1, 1], name='Tile1Dx'),\n",
        "          tf.tile(tf.expand_dims(hidden_1d_cropped_y, 2),\n",
        "                  [1, 1, n_x, 1], name='Tile1Dy')]\n",
        "      channels += 2 * hidden_1d.shape[-1]\n",
        "      channels += hidden_2d_cropped.shape[-1]\n",
        "      hidden_2d = tf.concat(\n",
        "          [hidden_2d_cropped] + augmentation_features, 3, name='Stack2Dfeatures')\n",
        "      hidden_2d.set_shape([None, None, None, channels])\n",
        "      return hidden_2d"
      ],
      "execution_count": null,
      "outputs": []
    },
    {
      "cell_type": "markdown",
      "metadata": {
        "id": "sRF7zON5jKcR"
      },
      "source": [
        "# Predictor"
      ]
    },
    {
      "cell_type": "code",
      "metadata": {
        "id": "EqNKsvIcCKt1"
      },
      "source": [
        "class PyramidWeights:\n",
        "  def __init__(self, weight, size_x, size_y): \n",
        "    prob_weights = 1\n",
        "    if weight > 0:\n",
        "      sx = np.expand_dims(np.linspace(1.0 / size_x, 1, size_x, dtype=np.float32), 1)\n",
        "      sy = np.expand_dims(np.linspace(1.0 / size_y, 1, size_y, dtype=np.float32), 0)\n",
        "\n",
        "      prob_weights = np.minimum(np.minimum(sx, np.flipud(sx)),\n",
        "                                np.minimum(sy, np.fliplr(sy)))\n",
        "      prob_weights /= np.max(prob_weights)\n",
        "      prob_weights = np.minimum(prob_weights, weight)\n",
        "\n",
        "    (prob_weights > 0.0).all()\n",
        "    \n",
        "    self.prob_weights = prob_weights"
      ],
      "execution_count": null,
      "outputs": []
    },
    {
      "cell_type": "code",
      "metadata": {
        "id": "PC5WOvW1DMWB",
        "colab": {
          "base_uri": "https://localhost:8080/"
        },
        "outputId": "fda7212b-033c-4393-d73c-60fd72003ef2"
      },
      "source": [
        "weights = PyramidWeights(0.8, 100, 100).prob_weights\n",
        "plt.imshow(weights)"
      ],
      "execution_count": null,
      "outputs": [
        {
          "output_type": "execute_result",
          "data": {
            "text/plain": [
              "<matplotlib.image.AxesImage at 0x7fe613eff5d0>"
            ]
          },
          "metadata": {
            "tags": []
          },
          "execution_count": 20
        },
        {
          "output_type": "display_data",
          "data": {
            "image/png": "[encoded data removed]",
            "text/plain": [
              "<Figure size 432x288 with 1 Axes>"
            ]
          },
          "metadata": {
            "tags": [],
            "needs_background": "light"
          }
        }
      ]
    },
    {
      "cell_type": "code",
      "metadata": {
        "id": "gcZJtrMvE0cb"
      },
      "source": [
        "class Predictor():\n",
        "  def __init__(self, feature_processor, config, network):\n",
        "    self.config = config\n",
        "    self.feature_processor = feature_processor\n",
        "    self.network = network\n",
        "\n",
        "  def predict_all(self):\n",
        "    config = self.config\n",
        "    network_config = config['network_config']\n",
        "    dataset = self.feature_processor.process_all()\n",
        "\n",
        "    pyramid_weights = PyramidWeights(config['eval_config']['pyramid_weights'], config['crop_size_x'], config['crop_size_y'])\n",
        "    augmenter = DataAugmenter(config['crop_size_x'], config['crop_size_y'], network_config['binary_code_bits'], name='Features2D')\n",
        "\n",
        "    num_bins=network_config['num_bins']\n",
        "\n",
        "    threshold = 8.0 # Find the bin that is 8A+\n",
        "    # Note that this misuses the max_range as the range.\n",
        "    bin_with_threshold = int(threshold - float(network_config['min_range']) * num_bins / float(network_config['max_range']))\n",
        "    for protein_batch in dataset.batch(1): \n",
        "      length = protein_batch.length[0]\n",
        "      crop_count = 0\n",
        "      prob_accum = np.zeros([length, length])\n",
        "      weight_accum = np.zeros([length, length])\n",
        "      softmax_prob_accum = np.zeros([length, length, num_bins], dtype=np.float32)\n",
        "      cropper = Cropper(config, protein_batch)\n",
        "      crop_count_estimate = cropper.get_crop_count()\n",
        "      print(f'Processing example with length: {length}, Number of crops: {crop_count_estimate}')\n",
        "      for crop in cropper:\n",
        "        # Convert crop to \"batch style\"\n",
        "        crop_x = tf.constant([crop.rectangle.x, crop.rectangle.end_x], dtype=tf.int32, shape=[1, 2])\n",
        "        crop_y = tf.constant([crop.rectangle.y, crop.rectangle.end_y], dtype=tf.int32, shape=[1, 2])\n",
        "            \n",
        "        augmentation_features = augmenter(protein_batch.inputs_1d, crop.inputs_2d, protein_batch.residue_indices, crop_x, crop_y)\n",
        "\n",
        "        # Todo: run network; for now simulate the nework output\n",
        "        activations = self.network(augmentation_features, crop.rectangle.size_x, crop.rectangle.size_y)\n",
        "\n",
        "        softmax_prob = tf.nn.softmax(activations[0, :, :, :num_bins])\n",
        "        prob = tf.reduce_sum(softmax_prob[:, :, :bin_with_threshold], axis=2)\n",
        "\n",
        "        weight = crop.get_live_data_hw(pyramid_weights.prob_weights)\n",
        "        \n",
        "        prob = crop.get_live_data_hw(prob)\n",
        "        softmax_prob = crop.get_live_data_hwc(softmax_prob)\n",
        "\n",
        "        prob *= weight\n",
        "        softmax_prob *= tf.expand_dims(weight, axis=2)\n",
        "\n",
        "        crop.stitch_data_onto_hw(prob, prob_accum)\n",
        "        crop.stitch_data_onto_hw(weight, weight_accum)\n",
        "        crop.stitch_data_onto_hwc(softmax_prob, softmax_prob_accum)\n",
        "\n",
        "        crop_count += 1\n",
        "      assert (weight_accum > 0.0).all()\n",
        "\n",
        "      probs = prob_accum / weight_accum\n",
        "      softmax_probs = softmax_prob_accum / tf.expand_dims(weight_accum, axis=2)\n",
        "      plt.imshow(softmax_probs[:, :, 1])\n",
        "\n",
        "      # The probs are symmetrical.\n",
        "      probs = (probs + probs.transpose()) / 2\n",
        "      if num_bins > 1:\n",
        "        softmax_probs = (softmax_probs + np.transpose(softmax_probs, axes=[1, 0, 2])) / 2\n",
        "\n",
        "      break"
      ],
      "execution_count": null,
      "outputs": []
    },
    {
      "cell_type": "code",
      "metadata": {
        "id": "8YJt71rBWOby",
        "colab": {
          "base_uri": "https://localhost:8080/"
        },
        "outputId": "02599c39-8112-4141-d7d5-fbadb831a98f"
      },
      "source": [
        "feature_processor = FeatureProcessor(config, tf_record_filename, stats_file_path)\n",
        "\n",
        "def one_network(unused_inputs, crop_size_x, crop_size_y):\n",
        "  prob = tf.constant(1, shape=[1, crop_size_y, crop_size_x, network_config['num_bins']], dtype=tf.float32)\n",
        "  return prob\n",
        "\n",
        "def avg_network(inputs, crop_size_x, crop_size_y):\n",
        "  prob = tf.constant(1, shape=[1, crop_size_y, crop_size_x, network_config['num_bins']], dtype=tf.float32)\n",
        "  prob = prob + tf.pad(tf.math.reduce_mean(inputs, axis=3, keepdims=True), [[0,0], [0,0],[0,0], [0,network_config['num_bins'] - 1]])\n",
        "  return prob\n",
        "\n",
        "predictor = Predictor(feature_processor, config, avg_network)\n",
        "predictor.predict_all()\n"
      ],
      "execution_count": null,
      "outputs": [
        {
          "output_type": "stream",
          "text": [
            "Processing example with length: 128, Number of crops: 256\n"
          ],
          "name": "stdout"
        },
        {
          "output_type": "display_data",
          "data": {
            "image/png": "[encoded data removed]",
            "text/plain": [
              "<Figure size 432x288 with 1 Axes>"
            ]
          },
          "metadata": {
            "tags": [],
            "needs_background": "light"
          }
        }
      ]
    },
    {
      "cell_type": "markdown",
      "metadata": {
        "id": "VL6lMLBCEoWh"
      },
      "source": [
        "Run evaluation"
      ]
    },
    {
      "cell_type": "code",
      "metadata": {
        "id": "cdsz0PaR6hQ3",
        "colab": {
          "base_uri": "https://localhost:8080/"
        },
        "outputId": "89e03d08-a198-4aff-a74b-4e8109b81036"
      },
      "source": [
        "# Load the saved model weights\n",
        "saved_model_path = 'alphafold-casp13-weights/873731/0/tf_graph_data/tf_graph_data.ckpt'\n",
        "\n",
        "checkpoint = tf.train.Checkpoint() # TODO: pass in model\n",
        "restore_status = checkpoint.restore(saved_model_path)\n",
        "# TODO: restore status validation (see https://www.tensorflow.org/guide/checkpoint#loading_mechanics)"
      ],
      "execution_count": null,
      "outputs": [
        {
          "output_type": "stream",
          "text": [
            "WARNING:tensorflow:From /usr/local/lib/python3.7/dist-packages/tensorflow/python/training/tracking/util.py:1315: NameBasedSaverStatus.__init__ (from tensorflow.python.training.tracking.util) is deprecated and will be removed in a future version.\n",
            "Instructions for updating:\n",
            "Restoring a name-based tf.train.Saver checkpoint using the object-based restore API. This mode uses global names to match variables, and so is somewhat fragile. It also adds new restore ops to the graph each time it is called when graph building. Prefer re-encoding training checkpoints in the object-based format: run save() on the object-based saver (the same one this message is coming from) and use that checkpoint in the future.\n"
          ],
          "name": "stdout"
        }
      ]
    },
    {
      "cell_type": "markdown",
      "metadata": {
        "id": "YY9fVntu6dvk"
      },
      "source": [
        "Load weights using the checkpoint. The weights were saved with v1 of tensorflow with sonnet (the `Saver`). This data can be loaded with TF v2's `Checkpoint`. This successfully loads them, but we need to apply the weights to the modle later. There are also some functions to validate that the restore applies the correct variables we can implment later"
      ]
    }
  ]
}