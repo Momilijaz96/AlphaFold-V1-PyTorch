{
  "nbformat": 4,
  "nbformat_minor": 0,
  "metadata": {
    "colab": {
      "name": "DataPreprocessing.ipynb",
      "provenance": [],
      "collapsed_sections": [],
      "mount_file_id": "1P2IHhDp1Y5J4cjMu2CULvcOnJ0ja7TtT",
      "authorship_tag": "ABX9TyPDqsurwR9SXgWSBUksXARg",
      "include_colab_link": true
    },
    "kernelspec": {
      "name": "python3",
      "display_name": "Python 3"
    },
    "language_info": {
      "name": "python"
    }
  },
  "cells": [
    {
      "cell_type": "markdown",
      "metadata": {
        "id": "view-in-github",
        "colab_type": "text"
      },
      "source": [
        "<a href=\"https://colab.research.google.com/github/Momilijaz96/AlphaFold-V1-PyTorch/blob/main/DataPreprocessing.ipynb\" target=\"_parent\"><img src=\"https://colab.research.google.com/assets/colab-badge.svg\" alt=\"Open In Colab\"/></a>"
      ]
    },
    {
      "cell_type": "code",
      "metadata": {
        "id": "xXG5giJI27Dt"
      },
      "source": [
        "# Download weights and test data\n",
        "!if [ ! -f alphafold-casp13-weights.zip ]; then wget -O alphafold-casp13-weights.zip http://bit.ly/alphafold-casp13-weights; fi;\n",
        "!if [ ! -f t0958.zip ]; then wget -O t0958.zip https://www.dropbox.com/s/l9yp92vtjsoj7qk/T0958.zip?dl=0&file_subpath=%2FT0958%2FT0958.tfrec; fi;\n",
        "\n",
        "# Unzip files\n",
        "!if [ ! -d alphafold-casp13-weights ]; then unzip -a alphafold-casp13-weights.zip -d alphafold-casp13-weights; fi;\n",
        "!if [ ! -d alphafold-casp13-data ]; then unzip -a t0958.zip -d alphafold-casp13-data; fi;"
      ],
      "execution_count": null,
      "outputs": []
    },
    {
      "cell_type": "code",
      "metadata": {
        "id": "v25--ERfDGwJ"
      },
      "source": [
        "import tensorflow as tf\n",
        "import collections\n",
        "import pickle\n",
        "import numpy as np\n",
        "import os\n",
        "import matplotlib.pyplot as plt\n",
        "import cv2\n",
        "import matplotlib.patches as patches\n"
      ],
      "execution_count": null,
      "outputs": []
    },
    {
      "cell_type": "markdown",
      "metadata": {
        "id": "rbKDIFKLdPoh"
      },
      "source": [
        "## Step1: Features and tfrec\n",
        "Define feature names and declare functions<br>\n",
        "\n",
        "a. For reading the tfrec files, as the protien data is given in that file format.<br>\n",
        "b. For converting tfrec to pickle"
      ]
    },
    {
      "cell_type": "code",
      "metadata": {
        "id": "CniDzbc9_73P"
      },
      "source": [
        "NUM_RES = 'sequence_length_placeholder' \n",
        "#Assuming NUM_RES is 128 then we can tell which features are 1d or 2d\n",
        "FEATURES = {\n",
        "    'aatype': ('float32', [NUM_RES, 21]), \n",
        "    'alpha_mask': ('int64', [NUM_RES, 1]), \n",
        "    'alpha_positions': ('float32', [NUM_RES, 3]), \n",
        "    'beta_mask': ('int64', [NUM_RES, 1]), \n",
        "    'beta_positions': ('float32', [NUM_RES, 3]), \n",
        "    'between_segment_residues': ('int64', [NUM_RES, 1]), \n",
        "    'chain_name': ('string', [1]), #?\n",
        "    'deletion_probability': ('float32', [NUM_RES, 1]), \n",
        "    'domain_name': ('string', [1]), #?\n",
        "    'gap_matrix': ('float32', [NUM_RES, NUM_RES, 1]), \n",
        "    'hhblits_profile': ('float32', [NUM_RES, 22]), \n",
        "    'hmm_profile': ('float32', [NUM_RES, 30]), \n",
        "    #'key': ('string', [1]),\n",
        "    'mutual_information': ('float32', [NUM_RES, NUM_RES, 1]), \n",
        "    'non_gapped_profile': ('float32', [NUM_RES, 21]), \n",
        "    'num_alignments': ('int64', [NUM_RES, 1]), \n",
        "    'num_effective_alignments': ('float32', [1]), #scalar\n",
        "    'phi_angles': ('float32', [NUM_RES, 1]), \n",
        "    'phi_mask': ('int64', [NUM_RES, 1]), \n",
        "    'profile': ('float32', [NUM_RES, 21]), \n",
        "    'profile_with_prior': ('float32', [NUM_RES, 22]),\n",
        "    'profile_with_prior_without_gaps': ('float32', [NUM_RES, 21]), \n",
        "    'pseudo_bias': ('float32', [NUM_RES, 22]), \n",
        "    'pseudo_frob': ('float32', [NUM_RES, NUM_RES, 1]), \n",
        "    'pseudolikelihood': ('float32', [NUM_RES, NUM_RES, 484]), \n",
        "    'psi_angles': ('float32', [NUM_RES, 1]), \n",
        "    'psi_mask': ('int64', [NUM_RES, 1]), \n",
        "    'residue_index': ('int64', [NUM_RES, 1]), \n",
        "    'resolution': ('float32', [1]), #scalar\n",
        "    'reweighted_profile': ('float32', [NUM_RES, 22]), \n",
        "    'sec_structure': ('int64', [NUM_RES, 8]), \n",
        "    'sec_structure_mask': ('int64', [NUM_RES, 1]), \n",
        "    'seq_length': ('int64', [NUM_RES, 1]), \n",
        "    'sequence': ('string', [1]), #?\n",
        "    'solv_surf': ('float32', [NUM_RES, 1]), \n",
        "    'solv_surf_mask': ('int64', [NUM_RES, 1]), \n",
        "    'superfamily': ('string', [1]), #?\n",
        "}"
      ],
      "execution_count": null,
      "outputs": []
    },
    {
      "cell_type": "markdown",
      "metadata": {
        "id": "Trs1jw_-IrWa"
      },
      "source": [
        "We have almost 17 2d features with varying channels and sizes, 13 1d or vector features and few strings."
      ]
    },
    {
      "cell_type": "code",
      "metadata": {
        "id": "zqoDXueaDZUt"
      },
      "source": [
        "#Create a named tuple / dictionary for each data sample i.e. protien sequence\n",
        "Protein = collections.namedtuple('Protein', ['len', 'seq', 'inputs_1d', 'inputs_2d', 'inputs_2d_diagonal', 'scalars', 'targets'])\n"
      ],
      "execution_count": null,
      "outputs": []
    },
    {
      "cell_type": "code",
      "metadata": {
        "id": "oy39a-GW8rJ0"
      },
      "source": [
        "FEATURE_TYPES = {k: v[0] for k, v in FEATURES.items()}\n",
        "FEATURE_SIZES = {k: v[1] for k, v in FEATURES.items()}\n",
        "\n",
        "def shape(feature_name, num_residues, features=None):\n",
        "  \"\"\"Get the shape for the given feature name.\n",
        "  Args:\n",
        "    feature_name: String identifier for the feature. If the feature name ends\n",
        "      with \"_unnormalized\", theis suffix is stripped off.\n",
        "    num_residues: The number of residues in the current domain - some elements\n",
        "      of the shape can be dynamic and will be replaced by this value.\n",
        "    features: A feature_name to (tf_dtype, shape) lookup; defaults to FEATURES.\n",
        "  Returns:\n",
        "    List of ints representation the tensor size.\n",
        "  \"\"\"\n",
        "  features = features or FEATURES\n",
        "  if feature_name.endswith('_unnormalized'):\n",
        "    feature_name = feature_name[:-13]\n",
        "\n",
        "  unused_dtype, raw_sizes = features[feature_name]\n",
        "  replacements = {NUM_RES: num_residues}\n",
        "\n",
        "  sizes = [replacements.get(dimension, dimension) for dimension in raw_sizes]\n",
        "  return sizes\n",
        "\n",
        "\n",
        "def parse_tfexample(raw_data, features):\n",
        "  \"\"\"Read a single TF Example proto and return a subset of its features.\n",
        "  Args:\n",
        "    raw_data: A serialized tf.Example proto.\n",
        "    features: A dictionary of features, mapping string feature names to a tuple\n",
        "      (dtype, shape). This dictionary should be a subset of\n",
        "      protein_features.FEATURES (or the dictionary itself for all features).\n",
        "  Returns:\n",
        "    A dictionary of features mapping feature names to features. Only the given\n",
        "    features are returned, all other ones are filtered out.\n",
        "  \"\"\"\n",
        "  feature_map = {\n",
        "      k: tf.io.FixedLenSequenceFeature(shape=(), dtype=v[0], allow_missing=True)\n",
        "      for k, v in features.items()\n",
        "  }\n",
        "  parsed_features = tf.io.parse_single_example(raw_data, feature_map)\n",
        "\n",
        "  # Find out what is the number of sequences and the number of alignments.\n",
        "  num_residues = tf.cast(parsed_features['seq_length'][0], dtype=tf.int32)\n",
        "\n",
        "  # Reshape the tensors according to the sequence length and num alignments.\n",
        "  for k, v in parsed_features.items():\n",
        "    new_shape = shape(feature_name=k, num_residues=num_residues)\n",
        "    # Make sure the feature we are reshaping is not empty.\n",
        "    assert_non_empty = tf.assert_greater(\n",
        "        tf.size(v), 0, name='assert_%s_non_empty' % k,\n",
        "        message='The feature %s is not set in the tf.Example. Either do not '\n",
        "        'request the feature or use a tf.Example that has the feature set.' % k)\n",
        "    with tf.control_dependencies([assert_non_empty]):\n",
        "      parsed_features[k] = tf.reshape(v, new_shape, name='reshape_%s' % k)\n",
        "\n",
        "  return parsed_features\n",
        "\n",
        "\n",
        "def tfrec_read(tf_record_filename, features):\n",
        "  \"\"\"Creates an instance of tf.data.Dataset backed by a protein dataset SSTable.\n",
        "  Args:\n",
        "    tf_record_filename: A string with filename of the TFRecord file.\n",
        "    features: A list of strings of feature names to be returned in the dataset.\n",
        "  Returns:\n",
        "    A tf.data.Dataset object. Its items are dictionaries from feature names to\n",
        "    feature values.\n",
        "  \"\"\"\n",
        "  # Make sure these features are always read.\n",
        "  required_features = ['aatype', 'sequence', 'seq_length']\n",
        "  features = list(set(features) | set(required_features))\n",
        "  features = {name: FEATURES[name] for name in features}\n",
        "\n",
        "  tf_dataset = tf.data.TFRecordDataset(filenames=[tf_record_filename])\n",
        "  tf_dataset = tf_dataset.map(lambda raw: parse_tfexample(raw, features))\n",
        "\n",
        "  return tf_dataset"
      ],
      "execution_count": null,
      "outputs": []
    },
    {
      "cell_type": "code",
      "metadata": {
        "id": "CE-bfw5cd7d_"
      },
      "source": [
        "#TFrec to pickle \n",
        "def tfrec2pkl(dataset, pkl_file):\n",
        "    datalist = []\n",
        "    dataset = dataset.batch(1)\n",
        "    for x in dataset:\n",
        "        data = {}\n",
        "        for k, v in x.items():\n",
        "            if k in ['sequence', 'domain_name', 'chain_name', 'resolution', 'superfamily', 'num_effective_alignments']:\n",
        "                # print(f\"{k}: {v.numpy()[0,0].decode('utf-8')}\")\n",
        "                if v.numpy().dtype == 'O':\n",
        "                    data[k] = v.numpy()[0,0].decode('utf-8')\n",
        "                else:\n",
        "                    data[k] = v.numpy()[0,0]\n",
        "            else:\n",
        "                # print(k, v.numpy().shape)\n",
        "                data[k] = v.numpy()[0]\n",
        "        datalist.append(data)\n",
        "\n",
        "    with open(pkl_file, 'wb') as f:\n",
        "        pickle.dump(datalist, f)\n",
        "\n",
        "    return datalist"
      ],
      "execution_count": null,
      "outputs": []
    },
    {
      "cell_type": "markdown",
      "metadata": {
        "id": "8mucaLQ6d8Cu"
      },
      "source": [
        "## Step2:  Feature Prcessor\n",
        "Define a feature processor class and add all steps of featuer processing to it as functions.<br>\n",
        "a. Read a tfrec file.<br>\n",
        "b. Convert the tfrec file to pickle.<br>\n",
        "c. Normalize the picked data.<br>\n",
        "d. Group the normalized features by dimension by function group_by_dim.<br>\n"
      ]
    },
    {
      "cell_type": "code",
      "metadata": {
        "id": "1SPgWgzQeaXT"
      },
      "source": [
        "class FeatureProcessor():\n",
        "  \"\"\"\n",
        "  Feature processor class performs feature processing given tfrec and config gile\n",
        "  class variables:\n",
        "    config = configuration dict\n",
        "    tfrec_filename = Target tfrec file  path, to process\n",
        "    features = Features to read from the tfrec file\n",
        "    targets = targets from config\n",
        "    scalars = scalars from config\n",
        "    copy_normalized_features = list of normalized features ?\n",
        "    normalized_features = features to be normalized\n",
        "  \"\"\"\n",
        "  #Constructor\n",
        "  def __init__(self,tfrec_filename,config,stats_filename):\n",
        "    self.config=config\n",
        "    self.tfrec_filename=tfrec_filename\n",
        "    network_config=config['network_config']\n",
        "    self.features=network_config['features']\n",
        "    self.targets=config['network_config']['targets']\n",
        "    self.scalars=config['network_config']['scalars']\n",
        "    self.config=config\n",
        "    #Read Stats file\n",
        "    with tf.io.gfile.GFile(stats_filename, 'r') as f:\n",
        "      self.normalization_stats = json.load(f)\n",
        "    \n",
        "\n",
        "\n",
        "  #Function to read tfrec file\n",
        "  def read_tfrec(self):\n",
        "    raw_datset=tfrec_read(self.tfrec_filename,self.features)\n",
        "    return raw_dataset\n",
        "  \n",
        "  #Function to convert tfrec to pickle\n",
        "  def tfrec_to_pickle(self,raw_dataset):\n",
        "    dataset=tfrec2pkl(raw_dataset,self.tfrec_filename[:-5]+'pkl')\n",
        "    return dataset\n",
        "  \n",
        "  #Function normalized the dataset\n",
        "  def normalize(self,data_sample):\n",
        "    feature_normalization = {k: self.config['feature_normalization'] for k in self.features if k not in self.config['normalization_exclusion']}\n",
        "    copy_unnormalized = list(set(self.features) & set(self.targets))\n",
        "    \n",
        "    for k in copy_unnormalized:\n",
        "        if k in data_sample: data_sample[f'{k}_unnormalized'] = data_sample[k]\n",
        "    \n",
        "    range_epsilon = 1e-12\n",
        "    for k, v in data_sample.items():\n",
        "        if k not in feature_normalization or feature_normalization[k] == 'none': pass\n",
        "        elif feature_normalization[k] == 'std':\n",
        "            train_range = np.sqrt(np.float32(self.normalization_stats['var'][k]))\n",
        "            v = v - np.float32(self.normalization_stats['mean'][k])\n",
        "            v = v / train_range if train_range > range_epsilon else v\n",
        "            data_sample[k] = v\n",
        "        else:\n",
        "            raise ValueError(f'Unknown normalization mode {feature_normalization[k]} for feature {k}.')\n",
        "\n",
        "    return data_sample\n",
        "  \n",
        "  #Function to group the normzied features by dim\n",
        "  def group_by_dim(self,data_sample):\n",
        "    tensors_1d = []\n",
        "    tensors_2d = []\n",
        "    tensors_2d_diagonal = []\n",
        "    L = len(data_sample['sequence'])\n",
        "\n",
        "    #Get features\n",
        "    features= self.features\n",
        "    scalars = self.scalars\n",
        "    targets = self.targets\n",
        "\n",
        "    #Group features by dim into 1d and 2d lists and get a Protien tuple\n",
        "    for k in features:\n",
        "      dim = len(FEATURES[k][1]) - 1 #get feature dim\n",
        "      if dim == 1:\n",
        "          #print(\"1d feature:\",k,\" with len: \",FEATURES[k][1])\n",
        "          tensors_1d.append(np.float32(data_sample[k])) #appedn 1d features in a list\n",
        "      elif dim == 2:\n",
        "          #print(\"2d feature:\",k,\" with len: \",FEATURES[k][1])\n",
        "          if k not in data_sample: #if 2d feature not availble look for its crooped/diag version and append it\n",
        "              if not(f'{k}_cropped' in data_sample and f'{k}_diagonal' in data_sample):\n",
        "                raise ValueError(\n",
        "                    f'The 2D feature {k} is not in the features dictionary and neither are its cropped and diagonal versions.')\n",
        "              else:\n",
        "                tensors_2d.append(np.float32(data_sample[f'{k}_cropped']))\n",
        "                tensors_2d_diagonal.append(np.float32(data_sample[f'{k}_diagonal']))\n",
        "          else:\n",
        "              tensors_2d.append(np.float32(data_sample[k])) #othewise append original 2d feature\n",
        "    \n",
        "    inputs_1d = np.concatenate(tensors_1d, -1)\n",
        "    inputs_2d = np.concatenate(tensors_2d, -1) if tensors_2d else np.zeros((L, L, 0), dtype=np.float32)\n",
        "\n",
        "    if tensors_2d_diagonal:\n",
        "        diagonal_crops1 = [t[:, :, :(t.shape[2] // 2)] for t in tensors_2d_diagonal]\n",
        "        diagonal_crops2 = [t[:, :, (t.shape[2] // 2):] for t in tensors_2d_diagonal]\n",
        "        inputs_2d_diagonal = np.concatenate(diagonal_crops1 + diagonal_crops2, 2)\n",
        "    else:\n",
        "        inputs_2d_diagonal = inputs_2d\n",
        "\n",
        "    scalars = collections.namedtuple('ScalarClass', scalars)(*[data_sample.get(f'{k}_unnormalized', data_sample[k]) for k in scalars])\n",
        "    targets = collections.namedtuple('TargetClass', targets)(*[data_sample.get(f'{k}_unnormalized', data_sample[k]) for k in targets])\n",
        "\n",
        "    p = Protein(\n",
        "              len=L,\n",
        "              seq=data_sample['sequence'],\n",
        "              inputs_1d=inputs_1d,\n",
        "              inputs_2d=inputs_2d,\n",
        "              inputs_2d_diagonal=inputs_2d_diagonal,\n",
        "              scalars=scalars,\n",
        "              targets=targets\n",
        "          )\n",
        "    return p\n",
        "\n",
        "  #Function perform all above functions in order and get processed dataset\n",
        "  def load_data(self,config):\n",
        "    raw_dataset=self.read_tfrec() #a. read the tfrec file\n",
        "    pkl_dataset=self.tfrec_to_pickle(raw_dataset) #b. pickel teh rawdataset\n",
        "    dataset_norm=[self.normalize(data) for data in pkl_dataset] #normlalize each same from pickle dataset\n",
        "    protien=[self.group_by_dim(data) for data in dataset_norm] #group by dim and get protien named tuple\n",
        "\n",
        "    return protien\n",
        "\n"
      ],
      "execution_count": null,
      "outputs": []
    },
    {
      "cell_type": "code",
      "metadata": {
        "id": "2tNKecjlw17d"
      },
      "source": [
        "####TEST THE FEATURE PROCESSOR CLASS#####\n",
        "\n",
        "#Read a tfrec file\n",
        "data_file='alphafold-casp13-data/T0958/T0958.tfrec'\n",
        "raw_dataset = tfrec_read(data_file,FEATURES)\n",
        "datalist=tfrec2pkl(raw_dataset,'T0958.pkl')\n",
        "\n",
        "#Get the network configuration dictionary\n",
        "import tensorflow as tf\n",
        "import json\n",
        "config_file_path = 'alphafold-casp13-weights/873731/0/config.json'\n",
        "\n",
        "# Load the first distogram replica config file\n",
        "with tf.io.gfile.GFile(config_file_path, 'r') as f:\n",
        "  config = json.load(f)\n",
        "\n",
        "#stats file name\n",
        "stats_filename='/content/alphafold-casp13-weights/873731/stats_train_s35.json'\n",
        "\n",
        "FP=FeatureProcessor(data_file,config,stats_filename)\n",
        "p=FP.load_data(config)"
      ],
      "execution_count": null,
      "outputs": []
    },
    {
      "cell_type": "code",
      "metadata": {
        "colab": {
          "base_uri": "https://localhost:8080/"
        },
        "id": "Fyxao98Q58jB",
        "outputId": "d4eca586-8d90-47b7-957a-c2f56a6a97db"
      },
      "source": [
        "p[0].targets._asdict().keys()"
      ],
      "execution_count": null,
      "outputs": [
        {
          "output_type": "execute_result",
          "data": {
            "text/plain": [
              "odict_keys(['sec_structure', 'sec_structure_mask', 'solv_surf', 'solv_surf_mask', 'beta_positions', 'beta_mask', 'domain_name', 'chain_name', 'resolution', 'num_alignments', 'superfamily', 'profile', 'hhblits_profile', 'residue_index', 'between_segment_residues'])"
            ]
          },
          "metadata": {
            "tags": []
          },
          "execution_count": 9
        }
      ]
    },
    {
      "cell_type": "code",
      "metadata": {
        "id": "RbCA-8oW1HeY",
        "colab": {
          "base_uri": "https://localhost:8080/"
        },
        "outputId": "188dbf26-cceb-4afb-9669-8e2cd32a9832"
      },
      "source": [
        "print(\"T0958 PROTIEN:\")\n",
        "for k in p[0]._asdict().keys():\n",
        "  print(k)"
      ],
      "execution_count": null,
      "outputs": [
        {
          "output_type": "stream",
          "text": [
            "T0958 PROTIEN:\n",
            "len\n",
            "seq\n",
            "inputs_1d\n",
            "inputs_2d\n",
            "inputs_2d_diagonal\n",
            "scalars\n",
            "targets\n"
          ],
          "name": "stdout"
        }
      ]
    },
    {
      "cell_type": "markdown",
      "metadata": {
        "id": "S2ru6Y-EnJBs"
      },
      "source": [
        "## Step3: Mapping Inputs1d to 2d\n",
        "Mapping 1d input features to 2d in following steps:<br>\n",
        "\n",
        "1. Get residue_index and inputs1d from protien.\n",
        "2. Get horizontal all colum D-channeled crops from inputs1d using crop_x and crop_y indices and pad them.\n",
        "3. Get padded slices from residue_index using crop_x and crop_y.\n",
        "4. Using binary code bits get b channeled slices from residue_index using crop_x and crop_y.\n",
        "5. Reshape and tile them all.\n",
        "6. Concatenate and give mapped features of size LxLx(2D+2b+2)."
      ]
    },
    {
      "cell_type": "code",
      "metadata": {
        "id": "dzweCcK2nOaj"
      },
      "source": [
        "#Function to map 1d features to 2d\n",
        "def feature_1d_to_2d(inputs1d, res_idx, L, crop_x, crop_y, crop_size_x, crop_size_y, binary_code_bits):\n",
        "\n",
        "  res_idx=np.int32(res_idx) #Map residue index to int\n",
        "  range_scale=100.0\n",
        "  n_x, n_y = crop_size_x, crop_size_y\n",
        "\n",
        "  #Get a horizontal all column slice out of inputs1d matrix with some vertical padding\n",
        "  #using crop_y indices\n",
        "  #x_1d_y size LXD, where D is inputs_1d.shape[1]\n",
        "  inputs1d_y = np.pad(\n",
        "        inputs1d[max(0, crop_y[0]):crop_y[1]],\n",
        "        [[max(0, -crop_y[0]), max(0, n_y - (L - crop_y[0]))],\n",
        "        [0, 0]]#,'constant',constant_values=3 #for visualization\n",
        "    ) \n",
        "  \n",
        "  #Get a padded slice of residue index using crop_y\n",
        "  #range_n_y shape is L\n",
        "  range_n_y = np.pad(\n",
        "        res_idx[max(0, crop_y[0]):crop_y[1]],\n",
        "        [max(0, -crop_y[0]), max(0, n_y - (L - crop_y[0]))]\n",
        "    ) \n",
        "  \n",
        "\n",
        "  #Get a horizontal all column slice out of inputs1d matrix with some vertical padding\n",
        "  #usinf crrop_x indices\n",
        "  #x_1d_x size LXD, where D is inputs_1d.shape[1]\n",
        "  inputs1d_x = np.pad(\n",
        "        inputs1d[max(0, crop_x[0]):crop_x[1]], \n",
        "        [[max(0, -crop_x[0]), max(0, n_x - (L - crop_x[0]))],\n",
        "        [0, 0]]\n",
        "    ) \n",
        "  \n",
        "  #Get a padded slice of residue index using crop_x\n",
        "  #range_n_x shape is L\n",
        "  range_n_x = np.pad(\n",
        "        res_idx[max(0, crop_x[0]):crop_x[1]],\n",
        "        [max(0, -crop_x[0]), max(0, n_x - (L - crop_x[0]))]\n",
        "    ) \n",
        "  \n",
        "  #Transform range_n_x and range_n_y to from L to LxL\n",
        "  #Make range_n_y Lx1\n",
        "  b= np.expand_dims(range_n_y, 1)\n",
        "  #Make range_n_x 1xL\n",
        "  a=np.expand_dims(range_n_x, 0)\n",
        "  #Subtract to get LxL, scale to get value in range\n",
        "  offset = np.float32(a - b) \n",
        "\n",
        "  #Make postion features\n",
        "  #postion_feature[0] = normalized range_n_y reshaped to n_yx1x1 and repeated for n_x cols to give n_y,n_x,1/LxLx1 shape\n",
        "  #psotion_feature[1] = reshape offet to n_y,n_x,1 or LxLx1\n",
        "  position_features = [\n",
        "        np.tile(\n",
        "            np.reshape((np.float32(range_n_y) - range_scale) / range_scale, [n_y, 1, 1]), #Lx1x1\n",
        "            [1, n_x, 1]\n",
        "        ),#LxLx1\n",
        "        np.reshape(offset, [n_y, n_x, 1]) #LxLx1\n",
        "    ]\n",
        "\n",
        "\n",
        "  #Add more postion features if binary_code_bits is true\n",
        "  if binary_code_bits:\n",
        "        exp_range_n_y = np.expand_dims(range_n_y, 1) #Lx1\n",
        "        bin_y = np.concatenate([exp_range_n_y // (1 << i) % 2 for i in range(binary_code_bits)], 1) #Lxb\n",
        "        exp_range_n_x = np.expand_dims(range_n_x, 1) #Lx1\n",
        "        bin_x = np.concatenate([exp_range_n_x // (1 << i) % 2 for i in range(binary_code_bits)], 1) #Lxb\n",
        "        \n",
        "        position_features += [ \n",
        "            np.tile(\n",
        "                np.expand_dims(np.float32(bin_y), 1), #Lx1xb\n",
        "                [1, n_x, 1], \n",
        "            ), #LxLxb\n",
        "            np.tile(\n",
        "                np.expand_dims(np.float32(bin_x), 0), #1xLxb\n",
        "                [n_y, 1, 1],\n",
        "            ) #LxLxb\n",
        "        ]\n",
        "\n",
        "  #Augmentation features - Use/Add inputs1d_x and inputs1d_y to the 1d mapped features too.\n",
        "  augmentation_features = position_features + [\n",
        "        np.tile(\n",
        "            np.expand_dims(inputs1d_x, 0), #1xLxD\n",
        "            [n_y, 1, 1]\n",
        "        ), #LxLxD\n",
        "        np.tile(\n",
        "            np.expand_dims(inputs1d_y, 1), #Lx1xD\n",
        "            [1, n_x, 1]\n",
        "        )#LXLxD\n",
        "    ]\n",
        "\n",
        "  #Augmentation features is a list of length six with following items\n",
        "  \"\"\"\n",
        "  augmentation_features[0]=features from range_n_y -> LXLX1\n",
        "  augmentation_features[1]=features from range_n_x -> LxLx1\n",
        "  augmentation_features[2]=features from binary code bits and range_n_y ->LxLxb\n",
        "  augmentation_features[3]=features from binray code bits and range_n_x ->LxLxb\n",
        "  augmentation_features[4]=features from inputs1d_y ->LxLxD\n",
        "  augmentation_features[5]=features from inputs1d_x ->LxLxD\n",
        "\n",
        "    \"\"\"\n",
        "  #concatenate all above along last dim hence we get -> LxLx(2D+2b+2)\n",
        "  augmentation_features = np.concatenate(augmentation_features, -1)\n",
        "  return augmentation_features\n",
        "  \n",
        "\n"
      ],
      "execution_count": null,
      "outputs": []
    },
    {
      "cell_type": "code",
      "metadata": {
        "colab": {
          "base_uri": "https://localhost:8080/",
          "height": 333
        },
        "id": "Pt7w3ajrnOh8",
        "outputId": "a7a21532-e140-40e4-c313-5b3868a178d3"
      },
      "source": [
        "#Test features_1d_to_2d\n",
        "\n",
        "crop_x=[-32,32]\n",
        "crop_y=[-32,32]\n",
        "\n",
        "out=feature_1d_to_2d(p[0].inputs_1d,p[0].targets.residue_index.flatten(),p[0].len,crop_x,crop_y,64,64,config['network_config']['binary_code_bits'])\n",
        "\n",
        "plt.imshow(out[:,:,:3])\n",
        "plt.title(\"Mapped Input1d\")\n",
        "\"\"\"\n",
        "plt.title(\"Vertical Crop\")\n",
        "\n",
        "fig,ax=plt.subplots()\n",
        "rect = patches.Rectangle((0,crop_x[0]),p[0].inputs_1d.shape[1],64.,\n",
        "                        linewidth=5, edgecolor='r', facecolor='none')\n",
        "ax.add_patch(rect)    \n",
        "ax.imshow(p[0].inputs_1d)\n",
        "plt.title(\"Inputs1d Crop window\")\n",
        "\"\"\"\n"
      ],
      "execution_count": null,
      "outputs": [
        {
          "output_type": "stream",
          "text": [
            "Clipping input data to the valid range for imshow with RGB data ([0..1] for floats or [0..255] for integers).\n"
          ],
          "name": "stderr"
        },
        {
          "output_type": "execute_result",
          "data": {
            "application/vnd.google.colaboratory.intrinsic+json": {
              "type": "string"
            },
            "text/plain": [
              "'\\nplt.title(\"Vertical Crop\")\\n\\nfig,ax=plt.subplots()\\nrect = patches.Rectangle((0,crop_x[0]),p[0].inputs_1d.shape[1],64.,\\n                        linewidth=5, edgecolor=\\'r\\', facecolor=\\'none\\')\\nax.add_patch(rect)    \\nax.imshow(p[0].inputs_1d)\\nplt.title(\"Inputs1d Crop window\")\\n'"
            ]
          },
          "metadata": {
            "tags": []
          },
          "execution_count": 12
        },
        {
          "output_type": "display_data",
          "data": {
            "image/png": "[encoded data removed]",
            "text/plain": [
              "<Figure size 432x288 with 1 Axes>"
            ]
          },
          "metadata": {
            "tags": [],
            "needs_background": "light"
          }
        }
      ]
    },
    {
      "cell_type": "code",
      "metadata": {
        "colab": {
          "base_uri": "https://localhost:8080/"
        },
        "id": "ioFolTCouvYn",
        "outputId": "04f00945-f396-45b8-8713-f17546f4850c"
      },
      "source": [
        "print(\"Residue Index\"\"0,1,2,3,4 ... 62,63\")"
      ],
      "execution_count": null,
      "outputs": [
        {
          "output_type": "stream",
          "text": [
            "Residue Index0,1,2,3,4 ... 62,63\n"
          ],
          "name": "stdout"
        }
      ]
    },
    {
      "cell_type": "markdown",
      "metadata": {
        "id": "srEhAchLvQXo"
      },
      "source": [
        "## Step4: Making Inputs2d Crops\n",
        "Define cropping class to get inputs 2d crops with a function get_next_crop yielding the next crop.<br>\n",
        "In this function we perform following:<br>\n",
        "1. Take inputs2d feature for a given protien tuple.\n",
        "2. Pad inputs2d horizontally and vertically. pre and post pad size is half of crop size, each.\n",
        "2. Get crop of specfied size with a calculate stride size.\n",
        "3. Get diagonal horizontal and vertical crops.\n",
        "4. Get augmentation features from feature_1d_to_2d.\n",
        "4. Concateante horizontal,vertical diagonal, current crop and augmentation features.\n",
        "5. Repeat for next crop location.\n"
      ]
    },
    {
      "cell_type": "code",
      "metadata": {
        "id": "H74Hdn_Nw5bV"
      },
      "source": [
        "#Class Cropper\n",
        "class Cropper():\n",
        "\n",
        "  #Initialize the constructor\n",
        "  def __init__(self,config,protien):\n",
        "    self.inputs_1d=protien.inputs_1d #Inputs1d attribute of Protien \n",
        "    self.inputs_2d=protien.inputs_2d #Inputs2d attribute of Protien\n",
        "    self.L=protien.len #Sequence Length, len attribute of protien\n",
        "    self.res_idx=protien.targets.residue_index.flatten() #Residue index list, like [0,1,2,...,L-1] \n",
        "    self.crop_size_x=int(config['crop_size_x']) #horizontal crop size, cols in a crop\n",
        "    self.crop_size_y=config['crop_size_y'] #vertical crop size, rows in a crop\n",
        "    self.crop_step_x=config['crop_size_x']//config['eval_config']['crop_shingle_x'] #hortizontal stride\n",
        "    self.crop_step_y=config['crop_size_y']//config['eval_config']['crop_shingle_y'] #Vertical stride\n",
        "    self.binary_code_bits=config['network_config']['binary_code_bits'] #Value from network_config dict for mapping inputs_1d to 2d\n",
        "\n",
        "\n",
        "  #Get next crop\n",
        "  def get_next_crop(self):\n",
        "    for i in range(-self.crop_size_x // 2, self.L - self.crop_size_x // 2, self.crop_step_x):\n",
        "        for j in range(-self.crop_size_y // 2, self.L - self.crop_size_y // 2, self.crop_step_y):\n",
        "          \n",
        "          #Get crop location stats\n",
        "          end_x = i + self.crop_size_x \n",
        "          end_y = j + self.crop_size_y\n",
        "          crop_x = np.array([[i, end_x]], dtype=np.int32)\n",
        "          crop_y = np.array([[j, end_y]], dtype=np.int32)\n",
        "          ic = max(0, i) #col index of input crop w/o prepad\n",
        "          jc = max(0, j) #row index of input crop w/o prepad\n",
        "          end_x_cropped = min(self.L, end_x) #col index of input crop w/o postpad\n",
        "          end_y_cropped = min(self.L, end_y) #row indec of input crop w/o postpad\n",
        "          prepad_x = max(0, -i) #horizontal prepad length\n",
        "          prepad_y = max(0, -j) #vertical prpad length\n",
        "          postpad_x = end_x - end_x_cropped #horizontal postpad length\n",
        "          postpad_y = end_y - end_y_cropped #vertical postpad length\n",
        "\n",
        "          #Get main crop\n",
        "          cyx = np.pad(\n",
        "                self.inputs_2d[jc:end_y, ic:end_x, :],\n",
        "                [[prepad_y, postpad_y],\n",
        "                [prepad_x, postpad_x],\n",
        "                [0, 0]]\n",
        "            )\n",
        "          assert cyx.shape[0] == self.crop_size_y\n",
        "          assert cyx.shape[1] == self.crop_size_x\n",
        "\n",
        "          #Get horizontal diagonal crop\n",
        "          cxx = self.inputs_2d[ic:end_x, ic:end_x, :]\n",
        "          if cxx.shape[0] < cyx.shape[0]:\n",
        "              cxx = np.pad(cxx,\n",
        "                  [[prepad_x, max(0, i + self.crop_size_y - self.L)],\n",
        "                  [prepad_x, postpad_x],\n",
        "                  [0, 0]]\n",
        "              )\n",
        "          assert cxx.shape[0] == self.crop_size_y\n",
        "          assert cxx.shape[1] == self.crop_size_x\n",
        "\n",
        "          #Get vertical diagonal crop\n",
        "          cyy = self.inputs_2d[jc:end_y, jc:end_y, :]\n",
        "          if cyy.shape[1] < cyx.shape[1]:\n",
        "              cyy = np.pad(cyy,\n",
        "                  [[prepad_y, postpad_y],\n",
        "                  [prepad_y, max(0, j + self.crop_size_x - self.L)],\n",
        "                  [0, 0]]\n",
        "              )\n",
        "          assert cyy.shape[0] == self.crop_size_y\n",
        "          assert cyy.shape[1] == self.crop_size_x\n",
        "\n",
        "          yield cyx,crop_x,crop_y #Output for running visualization of cropper\n",
        "          #Get augmentaiton features\n",
        "          augmentation_features=feature_1d_to_2d(self.inputs_1d,self.res_idx,self.L,crop_x[0],crop_y[0],self.crop_size_x,\n",
        "                                                 self.crop_size_y,self.binary_code_bits) #LxLx(2D+2b+1)\n",
        "          \n",
        "          concat_crops=np.concatenate([cyx,cxx,cyy,augmentation_features],-1) #LxLx\n",
        "         # yield concat_crops,crop_x,crop_y\n",
        "\n",
        "\n"
      ],
      "execution_count": null,
      "outputs": []
    },
    {
      "cell_type": "code",
      "metadata": {
        "id": "jmcl9n-E-Nh9",
        "colab": {
          "base_uri": "https://localhost:8080/",
          "height": 103
        },
        "outputId": "2a275555-a66c-4f66-99d5-2c937229ccb1"
      },
      "source": [
        "#visualize the Cropper\n",
        "\"\"\"\n",
        "\n",
        "crop=Cropper(config,p[0])\n",
        "plots=0\n",
        "for cyx,crop_x,crop_y in crop.get_next_crop():\n",
        "  #visualize crops\n",
        "  if plots%5==0:\n",
        "    f, (ax1, ax2) = plt.subplots(1, 2)\n",
        "    ax1.imshow((p[0].inputs_2d[:,:,:3]* 255).astype(np.uint8))\n",
        "    rect = patches.Rectangle((crop_x[0], crop_y[0]), 64., 64., linewidth=5, edgecolor='r', facecolor='none')\n",
        "    ax1.add_patch(rect)\n",
        "    ax1.set_title('Original 2d Feature')\n",
        "    ax2.imshow((cyx[:,:,:3]* 255).astype(np.uint8))\n",
        "    ax2.set_title(\"Crop\")\n",
        "    if not os.path.exists('inputs2d_crops'):\n",
        "      os.makedirs('inputs2d_crops')\n",
        "    f.savefig(\"inputs2d_crops/crop\"+str(plots))\n",
        "  plots+=1\n",
        "  if plots==50:\n",
        "    break;\n",
        "  \n",
        "\"\"\"\n"
      ],
      "execution_count": null,
      "outputs": [
        {
          "output_type": "execute_result",
          "data": {
            "application/vnd.google.colaboratory.intrinsic+json": {
              "type": "string"
            },
            "text/plain": [
              "'\\n\\ncrop=Cropper(config,p[0])\\nplots=0\\nfor cyx,crop_x,crop_y in crop.get_next_crop():\\n  #visualize crops\\n  if plots%5==0:\\n    f, (ax1, ax2) = plt.subplots(1, 2)\\n    ax1.imshow((p[0].inputs_2d[:,:,:3]* 255).astype(np.uint8))\\n    rect = patches.Rectangle((crop_x[0], crop_y[0]), 64., 64., linewidth=5, edgecolor=\\'r\\', facecolor=\\'none\\')\\n    ax1.add_patch(rect)\\n    ax1.set_title(\\'Original 2d Feature\\')\\n    ax2.imshow((cyx[:,:,:3]* 255).astype(np.uint8))\\n    ax2.set_title(\"Crop\")\\n    if not os.path.exists(\\'inputs2d_crops\\'):\\n      os.makedirs(\\'inputs2d_crops\\')\\n    f.savefig(\"inputs2d_crops/crop\"+str(plots))\\n  plots+=1\\n  if plots==50:\\n    break;\\n  \\n'"
            ]
          },
          "metadata": {
            "tags": []
          },
          "execution_count": 15
        }
      ]
    },
    {
      "cell_type": "code",
      "metadata": {
        "id": "k20sfULZ-Nj-",
        "colab": {
          "base_uri": "https://localhost:8080/",
          "height": 86
        },
        "outputId": "70b18ad9-6a36-407b-825a-62253e5d80b1"
      },
      "source": [
        "\"\"\"\n",
        "#convert images to video of crop progression\n",
        "import cv2\n",
        "import os\n",
        "from IPython.display import FileLink\n",
        "\n",
        "vid_fname = 'inputs2d_crops.mp4'\n",
        "dir=\"/content/inputs2d_crops\"\n",
        "files = [os.path.join(dir, f) for f in os.listdir(dir) if 'crop' in f]\n",
        "files.sort() #create a list of generated images\n",
        "\n",
        "\n",
        "out = cv2.VideoWriter(vid_fname,cv2.VideoWriter_fourcc(*'MP4V'), 1, (432,288)) #302x302 pixels = 10x10 fake image grid\n",
        "[out.write(cv2.imread(fname)) for fname in files]\n",
        "out.release()\n",
        "\"\"\""
      ],
      "execution_count": null,
      "outputs": [
        {
          "output_type": "execute_result",
          "data": {
            "application/vnd.google.colaboratory.intrinsic+json": {
              "type": "string"
            },
            "text/plain": [
              "'\\n#convert images to video of crop progression\\nimport cv2\\nimport os\\nfrom IPython.display import FileLink\\n\\nvid_fname = \\'inputs2d_crops.mp4\\'\\ndir=\"/content/inputs2d_crops\"\\nfiles = [os.path.join(dir, f) for f in os.listdir(dir) if \\'crop\\' in f]\\nfiles.sort() #create a list of generated images\\n\\n\\nout = cv2.VideoWriter(vid_fname,cv2.VideoWriter_fourcc(*\\'MP4V\\'), 1, (432,288)) #302x302 pixels = 10x10 fake image grid\\n[out.write(cv2.imread(fname)) for fname in files]\\nout.release()\\n'"
            ]
          },
          "metadata": {
            "tags": []
          },
          "execution_count": 16
        }
      ]
    },
    {
      "cell_type": "code",
      "metadata": {
        "id": "TyRCsnCLi9WF",
        "colab": {
          "base_uri": "https://localhost:8080/",
          "height": 332
        },
        "outputId": "271e9df7-429c-4bb1-bb8f-fd6fe1c64105"
      },
      "source": [
        "#Test the cropper\n",
        "c=Cropper(config,p[0])\n",
        "for crop,crop_x,crop_y in c.get_next_crop():\n",
        "  print(crop.shape)\n",
        "  plt.imshow((crop[:,:,:3]* 255).astype(np.uint8))\n",
        "  print(crop_x.shape)\n",
        "  print(crop_y.shape)\n",
        "  plt.title(\"Final Crop\")\n",
        "  break;"
      ],
      "execution_count": null,
      "outputs": [
        {
          "output_type": "stream",
          "text": [
            "(64, 64, 486)\n",
            "(1, 2)\n",
            "(1, 2)\n"
          ],
          "name": "stdout"
        },
        {
          "output_type": "display_data",
          "data": {
            "image/png": "[encoded data removed]",
            "text/plain": [
              "<Figure size 432x288 with 1 Axes>"
            ]
          },
          "metadata": {
            "tags": [],
            "needs_background": "light"
          }
        }
      ]
    },
    {
      "cell_type": "code",
      "metadata": {
        "id": "BNPnpxVr1_V8",
        "colab": {
          "base_uri": "https://localhost:8080/",
          "height": 315
        },
        "outputId": "dab86e38-c3f8-4bb5-e74c-d97a4866c068"
      },
      "source": [
        "plt.imshow(p[0].inputs_2d[:,:,:3])\n",
        "plt.title(\"Inputs2d T0958\")"
      ],
      "execution_count": null,
      "outputs": [
        {
          "output_type": "stream",
          "text": [
            "Clipping input data to the valid range for imshow with RGB data ([0..1] for floats or [0..255] for integers).\n"
          ],
          "name": "stderr"
        },
        {
          "output_type": "execute_result",
          "data": {
            "text/plain": [
              "Text(0.5, 1.0, 'Inputs2d T0958')"
            ]
          },
          "metadata": {
            "tags": []
          },
          "execution_count": 18
        },
        {
          "output_type": "display_data",
          "data": {
            "image/png": "[encoded data removed]",
            "text/plain": [
              "<Figure size 432x288 with 1 Axes>"
            ]
          },
          "metadata": {
            "tags": [],
            "needs_background": "light"
          }
        }
      ]
    },
    {
      "cell_type": "code",
      "metadata": {
        "id": "6ICYon26KC8D"
      },
      "source": [
        "p[0].inputs_2d.shape"
      ],
      "execution_count": null,
      "outputs": []
    },
    {
      "cell_type": "code",
      "metadata": {
        "id": "1zm4ygBbCFFL"
      },
      "source": [
        "!pip install import_ipynb"
      ],
      "execution_count": null,
      "outputs": []
    },
    {
      "cell_type": "code",
      "metadata": {
        "id": "ctoJEDu3RdLk"
      },
      "source": [
        "!ls"
      ],
      "execution_count": null,
      "outputs": []
    },
    {
      "cell_type": "code",
      "metadata": {
        "id": "wX1c8Ix9Rnfu"
      },
      "source": [
        "import import_ipynb\n",
        "from Network import *"
      ],
      "execution_count": null,
      "outputs": []
    },
    {
      "cell_type": "code",
      "metadata": {
        "id": "WQg8I7sSRzLb"
      },
      "source": [
        "%cd MyDrive/ColabNotebooks/Alphafold/"
      ],
      "execution_count": null,
      "outputs": []
    },
    {
      "cell_type": "code",
      "metadata": {
        "id": "FiUFCEQqTEfb"
      },
      "source": [
        "# Import libraries\n",
        "import numpy as np\n",
        "import keras\n",
        "import tensorflow as tf\n",
        "from keras.models import Model\n",
        "# Activation and Regularization\n",
        "from keras.regularizers import l2\n",
        "from keras.activations import softmax\n",
        "from keras import backend as K\n",
        "\n",
        "# Keras layers\n",
        "from keras.layers.convolutional import Conv2D, Conv2DTranspose\n",
        "from keras.layers import Dense, Dropout, Flatten, Input, BatchNormalization, Activation, Add\n",
        "#Imoprt Tensforflow and json for configuration\n",
        "import json\n",
        "import tensorflow as tf\n",
        "\n",
        "# Avoid python call depth errors\n",
        "import sys\n",
        "sys.setrecursionlimit(5000)\n"
      ],
      "execution_count": null,
      "outputs": []
    },
    {
      "cell_type": "code",
      "metadata": {
        "id": "--ubYqYeS8WG"
      },
      "source": [
        "adam = keras.optimizers.Adam(amsgrad=True)\n",
        "# Create model\n",
        "model =AlphaFoldNetwork(config=config['network_config'])\n",
        "model.build(input_shape=[(1,64,64,1878),(1,2),(1,2)])\n",
        "model.compile(optimizer=adam, loss='categorical_crossentropy', metrics=[\"accuracy\"])\n",
        "model.summary()\n"
      ],
      "execution_count": null,
      "outputs": []
    },
    {
      "cell_type": "code",
      "metadata": {
        "colab": {
          "base_uri": "https://localhost:8080/",
          "height": 285
        },
        "id": "WxxfkLzbR_Rg",
        "outputId": "7823fc37-923f-4365-be60-b98f0784fe70"
      },
      "source": [
        "#Test the cropper\n",
        "c=Cropper(config,p[0])\n",
        "for crop,crop_x,crop_y in c.get_next_crop():\n",
        "  crop=np.expand_dims(crop,axis=0)\n",
        "  out=model((crop,crop_x,crop_y))\n",
        "  plt.imshow(out[0,:,:,:3])\n",
        "  break;"
      ],
      "execution_count": null,
      "outputs": [
        {
          "output_type": "stream",
          "text": [
            "Clipping input data to the valid range for imshow with RGB data ([0..1] for floats or [0..255] for integers).\n"
          ],
          "name": "stderr"
        },
        {
          "output_type": "display_data",
          "data": {
            "image/png": "[encoded data removed]",
            "text/plain": [
              "<Figure size 432x288 with 1 Axes>"
            ]
          },
          "metadata": {
            "tags": [],
            "needs_background": "light"
          }
        }
      ]
    },
    {
      "cell_type": "code",
      "metadata": {
        "id": "Kze_IRNYR_2v"
      },
      "source": [
        "tf_ckpt='/content/alphafold-casp13-weights/873731/0/tf_graph_data/tf_graph_data.ckpt'\n",
        "model.load_weights(tf_ckpt)"
      ],
      "execution_count": null,
      "outputs": []
    },
    {
      "cell_type": "code",
      "metadata": {
        "id": "ijHu-vEgT0uo"
      },
      "source": [
        ""
      ],
      "execution_count": null,
      "outputs": []
    }
  ]
}